{
 "cells": [
  {
   "cell_type": "markdown",
   "id": "03b5aff6",
   "metadata": {
    "slideshow": {
     "slide_type": "slide"
    }
   },
   "source": [
    "\n",
    "# Qiskit 101"
   ]
  },
  {
   "cell_type": "markdown",
   "id": "a9c92d96",
   "metadata": {
    "slideshow": {
     "slide_type": "-"
    }
   },
   "source": [
    "### Sept. 6, 2022, Dr. Elisa Bäumer\n"
   ]
  },
  {
   "cell_type": "markdown",
   "id": "e1e43864",
   "metadata": {
    "slideshow": {
     "slide_type": "-"
    }
   },
   "source": [
    "### Overview\n",
    "\n",
    "1. Quantum circuits and visualization\n",
    "2. Running on real backends\n",
    "3. Grover's algorithm"
   ]
  },
  {
   "cell_type": "markdown",
   "id": "779563dc",
   "metadata": {
    "slideshow": {
     "slide_type": "slide"
    },
    "tags": []
   },
   "source": [
    "## Part 1: Quantum circuits and visualization"
   ]
  },
  {
   "cell_type": "markdown",
   "id": "5677e30b",
   "metadata": {
    "slideshow": {
     "slide_type": "-"
    },
    "tags": []
   },
   "source": [
    "### Building your first quantum circuit\n",
    "\n",
    "As a first \"hello-world\" example, we will build and simulate a Bell circuit, showcasing the basic workflow of Qiskit. "
   ]
  },
  {
   "cell_type": "code",
   "execution_count": null,
   "id": "78eea48d",
   "metadata": {
    "scrolled": true,
    "slideshow": {
     "slide_type": "slide"
    }
   },
   "outputs": [],
   "source": [
    "from qiskit import QuantumCircuit\n",
    "\n",
    "# Create circuit\n",
    "circuit = QuantumCircuit(2)\n",
    "circuit.h(0)\n",
    "circuit.cx(0, 1)\n",
    "circuit.draw('mpl',initial_state=True)"
   ]
  },
  {
   "cell_type": "markdown",
   "id": "810579e0",
   "metadata": {
    "slideshow": {
     "slide_type": "slide"
    }
   },
   "source": [
    "### Simulating the final state\n",
    "In many situations you want to see the final state of a quantum circuit. We can simulate the Statevector prepared by a quantum circuit with the `statevector_simulator` backend."
   ]
  },
  {
   "cell_type": "code",
   "execution_count": null,
   "id": "94409e29",
   "metadata": {
    "slideshow": {
     "slide_type": "slide"
    }
   },
   "outputs": [],
   "source": [
    "from qiskit.visualization import array_to_latex\n",
    "from qiskit import Aer\n",
    "\n",
    "qc = QuantumCircuit(2)\n",
    "qc.x(0)\n",
    "qc.h(0)\n",
    "qc.cx(0, 1)\n",
    "backend = Aer.get_backend('statevector_simulator') # the device to run on\n",
    "result = backend.run(qc).result()\n",
    "psi = result.get_statevector(qc)\n",
    "array_to_latex(psi)"
   ]
  },
  {
   "cell_type": "markdown",
   "id": "4aa98d5e",
   "metadata": {
    "slideshow": {
     "slide_type": "slide"
    }
   },
   "source": [
    "### Plotting the state\n",
    "\n",
    "There are several functions for generating different types of visualization of a quantum state"
   ]
  },
  {
   "cell_type": "code",
   "execution_count": null,
   "id": "89c03388",
   "metadata": {
    "scrolled": true,
    "slideshow": {
     "slide_type": "slide"
    }
   },
   "outputs": [],
   "source": [
    "from qiskit.visualization import plot_state_qsphere\n",
    "\n",
    "plot_state_qsphere(psi)"
   ]
  },
  {
   "cell_type": "code",
   "execution_count": null,
   "id": "8d91d2d3",
   "metadata": {
    "slideshow": {
     "slide_type": "slide"
    }
   },
   "outputs": [],
   "source": [
    "from qiskit.visualization import plot_state_city\n",
    "\n",
    "plot_state_city(psi)"
   ]
  },
  {
   "cell_type": "code",
   "execution_count": null,
   "id": "aa72c2f0",
   "metadata": {
    "scrolled": true,
    "slideshow": {
     "slide_type": "slide"
    }
   },
   "outputs": [],
   "source": [
    "from qiskit.visualization import plot_state_hinton\n",
    "\n",
    "plot_state_hinton(psi)"
   ]
  },
  {
   "cell_type": "code",
   "execution_count": null,
   "id": "6753d42a",
   "metadata": {
    "scrolled": true,
    "slideshow": {
     "slide_type": "slide"
    }
   },
   "outputs": [],
   "source": [
    "from qiskit.visualization import plot_state_paulivec\n",
    "\n",
    "plot_state_paulivec(psi)"
   ]
  },
  {
   "cell_type": "markdown",
   "id": "eac5f61a",
   "metadata": {
    "slideshow": {
     "slide_type": "slide"
    }
   },
   "source": [
    "### Executing the circuit\n",
    "\n",
    "Before executing the circuit, we need to add a measurement."
   ]
  },
  {
   "cell_type": "code",
   "execution_count": null,
   "id": "222a2b95",
   "metadata": {
    "scrolled": true
   },
   "outputs": [],
   "source": [
    "circuit.measure_all()\n",
    "\n",
    "circuit.draw('mpl')"
   ]
  },
  {
   "cell_type": "markdown",
   "id": "8a38f0d8",
   "metadata": {
    "slideshow": {
     "slide_type": "slide"
    }
   },
   "source": [
    "To execute a circuit, we need to choose a backend. Here we use a basic simulator from qiskit Aer. "
   ]
  },
  {
   "cell_type": "code",
   "execution_count": null,
   "id": "93e088b3",
   "metadata": {
    "slideshow": {
     "slide_type": "-"
    }
   },
   "outputs": [],
   "source": [
    "backend = Aer.get_backend('aer_simulator')  # this is the simulator we'll use\n",
    "job = backend.run(circuit) # this runs the experiment\n",
    "\n",
    "result = job.result()\n",
    "counts = result.get_counts()\n",
    "print(counts)"
   ]
  },
  {
   "cell_type": "markdown",
   "id": "46c850e9",
   "metadata": {
    "slideshow": {
     "slide_type": "slide"
    }
   },
   "source": [
    "We can then plot the results in a histogram."
   ]
  },
  {
   "cell_type": "code",
   "execution_count": null,
   "id": "890144e0",
   "metadata": {
    "scrolled": false,
    "slideshow": {
     "slide_type": "-"
    }
   },
   "outputs": [],
   "source": [
    "from qiskit.visualization import plot_histogram\n",
    "\n",
    "plot_histogram(counts)"
   ]
  },
  {
   "cell_type": "markdown",
   "id": "1ec12ec4",
   "metadata": {
    "slideshow": {
     "slide_type": "slide"
    }
   },
   "source": [
    "## Part 2: Running on real backends"
   ]
  },
  {
   "cell_type": "markdown",
   "id": "826d8f2d",
   "metadata": {
    "slideshow": {
     "slide_type": "-"
    }
   },
   "source": [
    "### Circuit transpilation\n",
    "\n",
    "Backends in Qiskit are accessed through a `provider`. With the free IBMQ provider, these are the devices we can access:"
   ]
  },
  {
   "cell_type": "code",
   "execution_count": null,
   "id": "9867b182",
   "metadata": {
    "slideshow": {
     "slide_type": "-"
    }
   },
   "outputs": [],
   "source": [
    "from qiskit import IBMQ\n",
    "\n",
    "#IBMQ.save_account(TOKEN, HUB, GROUP, PROJECT)\n",
    "provider = IBMQ.load_account() # Loading your IBM Quantum account(s)\n",
    "provider = IBMQ.get_provider(hub='ibm-q-education', group='eth-zurich-ibm-1', project='summer-school-qi')"
   ]
  },
  {
   "cell_type": "code",
   "execution_count": null,
   "id": "d4252895",
   "metadata": {
    "slideshow": {
     "slide_type": "slide"
    }
   },
   "outputs": [],
   "source": [
    "[(b.name(), b.configuration().n_qubits) for b in provider.backends()]"
   ]
  },
  {
   "cell_type": "code",
   "execution_count": null,
   "id": "330bf9bf",
   "metadata": {
    "slideshow": {
     "slide_type": "slide"
    }
   },
   "outputs": [],
   "source": [
    "from qiskit.providers.ibmq import least_busy\n",
    "\n",
    "# get least busy device backend with > 2 qubits\n",
    "backend = least_busy(provider.backends(\n",
    "                simulator=False,\n",
    "                filters=lambda b: b.configuration().n_qubits >= 3))\n",
    "backend"
   ]
  },
  {
   "cell_type": "code",
   "execution_count": null,
   "id": "958b527e",
   "metadata": {
    "slideshow": {
     "slide_type": "slide"
    }
   },
   "outputs": [],
   "source": [
    "# run on least busy backend\n",
    "job = backend.run(circuit)"
   ]
  },
  {
   "cell_type": "code",
   "execution_count": null,
   "id": "1cf004f2",
   "metadata": {
    "scrolled": true
   },
   "outputs": [],
   "source": [
    "# get results\n",
    "job.result()"
   ]
  },
  {
   "cell_type": "markdown",
   "id": "4e2f3ca0",
   "metadata": {
    "slideshow": {
     "slide_type": "slide"
    }
   },
   "source": [
    "This fails, because the circuit needs to be _transpiled_ to the backend, i.e., decomposed into operations which the backend can implement. "
   ]
  },
  {
   "cell_type": "code",
   "execution_count": null,
   "id": "678f12bb",
   "metadata": {
    "slideshow": {
     "slide_type": "-"
    }
   },
   "outputs": [],
   "source": [
    "from qiskit import transpile\n",
    "\n",
    "# transpile with specified backend\n",
    "transpiled_circuit = transpile(circuit, backend, optimization_level=3)\n",
    "transpiled_circuit.draw('mpl', idle_wires=False)"
   ]
  },
  {
   "cell_type": "code",
   "execution_count": null,
   "id": "16b2afc2",
   "metadata": {
    "scrolled": true,
    "slideshow": {
     "slide_type": "slide"
    }
   },
   "outputs": [],
   "source": [
    "from qiskit.visualization import plot_circuit_layout, plot_gate_map\n",
    "display(plot_gate_map(backend), plot_circuit_layout(transpiled_circuit, backend))"
   ]
  },
  {
   "cell_type": "code",
   "execution_count": null,
   "id": "fc504e06",
   "metadata": {
    "slideshow": {
     "slide_type": "slide"
    }
   },
   "outputs": [],
   "source": [
    "import qiskit.tools.jupyter\n",
    "%qiskit_job_watcher\n",
    "# this will run the job on the backend\n",
    "job = backend.run(transpiled_circuit, shots = 2000)\n",
    "\n",
    "print(job.job_id())"
   ]
  },
  {
   "cell_type": "code",
   "execution_count": null,
   "id": "8fe78893",
   "metadata": {
    "scrolled": true,
    "slideshow": {
     "slide_type": "slide"
    }
   },
   "outputs": [],
   "source": [
    "# get results\n",
    "backend =  provider.get_backend('ibm_lagos')\n",
    "job = backend.retrieve_job('6316774d76e4d161a20b4267')\n",
    "result = job.result()\n",
    "counts = result.get_counts()\n",
    "plot_histogram(counts)"
   ]
  },
  {
   "attachments": {
    "image.png": {
     "image/png": "[encoded data removed]"
    }
   },
   "cell_type": "markdown",
   "id": "e7292c5a",
   "metadata": {
    "slideshow": {
     "slide_type": "slide"
    }
   },
   "source": [
    "## Part 3: Grover's Algorithm\n",
    "\n",
    "![image.png](attachment:image.png)"
   ]
  },
  {
   "cell_type": "markdown",
   "id": "faca4b27",
   "metadata": {
    "slideshow": {
     "slide_type": "slide"
    }
   },
   "source": [
    "### Self-made oracle & algorithm\n",
    "\n",
    "Let us start by creating our own phase oracle function and diffuser function."
   ]
  },
  {
   "cell_type": "code",
   "execution_count": null,
   "id": "a154df4c",
   "metadata": {},
   "outputs": [],
   "source": [
    "from qiskit.quantum_info import Operator\n",
    "\n",
    "def phase_oracle(n, indices_to_mark, name = 'Oracle'):\n",
    "    qc = QuantumCircuit(n, name=name)\n",
    "    oracle_matrix = np.identity(2**n)\n",
    "    for index_to_mark in indices_to_mark:\n",
    "        oracle_matrix[index_to_mark, index_to_mark] = -1\n",
    "    qc.unitary(Operator(oracle_matrix), range(n))\n",
    "    return qc\n",
    "\n",
    "def diffuser(n):\n",
    "    qc = QuantumCircuit(n, name='Diff - \"V\"')\n",
    "    qc.h(range(n))\n",
    "    qc.append(phase_oracle(n,[0]),range(n))\n",
    "    qc.h(range(n))\n",
    "    return qc"
   ]
  },
  {
   "cell_type": "markdown",
   "id": "06606205",
   "metadata": {
    "slideshow": {
     "slide_type": "slide"
    }
   },
   "source": [
    "Now we can combine these to build our Grover algorithm:"
   ]
  },
  {
   "cell_type": "code",
   "execution_count": null,
   "id": "f53a1e08",
   "metadata": {},
   "outputs": [],
   "source": [
    "def Grover(n, marked):\n",
    "    qc = QuantumCircuit(n, n)\n",
    "    r = int(np.round(np.pi/(4*np.arcsin(np.sqrt(len(marked)/2**n)))-1/2))\n",
    "    print(f'{n} qubits, basis state {marked} marked, {r} rounds')\n",
    "    qc.h(range(n))\n",
    "    for _ in range(r):\n",
    "        qc.append(phase_oracle(n,marked), range(n))\n",
    "        qc.append(diffuser(n), range(n))\n",
    "    qc.measure(range(n), range(n))\n",
    "    return qc"
   ]
  },
  {
   "cell_type": "code",
   "execution_count": null,
   "id": "9f284f49",
   "metadata": {
    "slideshow": {
     "slide_type": "slide"
    }
   },
   "outputs": [],
   "source": [
    "import numpy as np\n",
    "\n",
    "n = 5\n",
    "x = np.random.randint(2**n)\n",
    "marked = [x]\n",
    "qc = Grover(n, marked)\n",
    "\n",
    "qc.draw('mpl')"
   ]
  },
  {
   "cell_type": "code",
   "execution_count": null,
   "id": "b04c71e2",
   "metadata": {
    "slideshow": {
     "slide_type": "slide"
    }
   },
   "outputs": [],
   "source": [
    "from qiskit import execute \n",
    "\n",
    "backend = Aer.get_backend('qasm_simulator')\n",
    "result = execute(qc, backend, shots=10000).result()\n",
    "counts = result.get_counts(qc)\n",
    "print(counts)\n",
    "plot_histogram(counts)"
   ]
  },
  {
   "cell_type": "code",
   "execution_count": null,
   "id": "e59aafcb",
   "metadata": {
    "slideshow": {
     "slide_type": "slide"
    }
   },
   "outputs": [],
   "source": [
    "def Grover_run_roundwise(n, marked):\n",
    "    r = int(np.round(np.pi/(4*np.arcsin(np.sqrt(len(marked)/2**n)))-1/2))\n",
    "    print(f'{n} qubits, basis state {marked} marked, {r} rounds')\n",
    "    counts = []\n",
    "    for i in range(r):\n",
    "        qc = QuantumCircuit(n, n)\n",
    "        qc.h(range(n))\n",
    "        for _ in range(i+1):\n",
    "            qc.append(phase_oracle(n,marked), range(n))\n",
    "            qc.append(diffuser(n), range(n))\n",
    "        qc.measure(range(n), range(n))\n",
    "        result = execute(qc, backend, shots=10000).result()\n",
    "        counts.append(result.get_counts(qc))\n",
    "    return counts\n",
    "\n",
    "backend = Aer.get_backend('qasm_simulator')\n",
    "counts = Grover_run_roundwise(n,marked)"
   ]
  },
  {
   "cell_type": "code",
   "execution_count": null,
   "id": "a4df7fe1",
   "metadata": {
    "slideshow": {
     "slide_type": "slide"
    }
   },
   "outputs": [],
   "source": [
    "plot_histogram(counts[0])"
   ]
  },
  {
   "cell_type": "code",
   "execution_count": null,
   "id": "e46216b4",
   "metadata": {
    "slideshow": {
     "slide_type": "slide"
    }
   },
   "outputs": [],
   "source": [
    "print(counts[3])\n",
    "plot_histogram(counts, bar_labels=False)"
   ]
  },
  {
   "cell_type": "code",
   "execution_count": null,
   "id": "32c63521",
   "metadata": {
    "scrolled": true,
    "slideshow": {
     "slide_type": "slide"
    }
   },
   "outputs": [],
   "source": [
    "n = 3\n",
    "x = np.random.randint(2**n)\n",
    "y = np.random.randint(2**n)\n",
    "while y==x:\n",
    "    y = np.random.randint(2**n)\n",
    "marked = [x,y]\n",
    "qc = Grover(n, marked)\n",
    "\n",
    "provider = IBMQ.get_provider(hub='ibm-q-internal', group='deployed', project='default')\n",
    "#backend = provider.get_backend('ibm_hanoi')\n",
    "backend = least_busy(provider.backends(filters=lambda x: x.configuration().n_qubits >= n and\n",
    "                                   not x.configuration().simulator and x.status().operational==True))\n",
    "print(\"least busy backend: \", backend)\n",
    "\n",
    "shots = 20000\n",
    "#layout = [1,2,4] #hanoi\n",
    "job = execute(qc, backend=backend, shots=shots, optimization_level=3)\n",
    "#job = execute(qc, backend=backend, shots=shots, initial_layout=layout, optimization_level=3)\n",
    "print(job.job_id())"
   ]
  },
  {
   "cell_type": "code",
   "execution_count": null,
   "id": "7db3b750",
   "metadata": {
    "slideshow": {
     "slide_type": "slide"
    }
   },
   "outputs": [],
   "source": [
    "# job status\n",
    "job.status()"
   ]
  },
  {
   "cell_type": "code",
   "execution_count": null,
   "id": "f4643f89",
   "metadata": {
    "slideshow": {
     "slide_type": "-"
    }
   },
   "outputs": [],
   "source": [
    "# Get the results of the computation\n",
    "results = job.result()\n",
    "answer = results.get_counts()\n",
    "plot_histogram(answer)"
   ]
  },
  {
   "cell_type": "code",
   "execution_count": null,
   "id": "fd665ec0",
   "metadata": {
    "scrolled": true,
    "slideshow": {
     "slide_type": "slide"
    }
   },
   "outputs": [],
   "source": [
    "# job I ran before\n",
    "provider = IBMQ.get_provider(hub='ibm-q-internal', group='deployed', project='default')\n",
    "backend = provider.get_backend('ibm_hanoi')\n",
    "old_job = backend.retrieve_job('629c83c022557e3921649245')\n",
    "results = old_job.result()\n",
    "answer = results.get_counts()\n",
    "plot_histogram(answer)"
   ]
  },
  {
   "cell_type": "markdown",
   "id": "8d710cd2",
   "metadata": {
    "slideshow": {
     "slide_type": "slide"
    }
   },
   "source": [
    "### Grover's Algorithm to Solve a Satisfyability Problem\n",
    "\n",
    "Imagine you are throwing a birthday party and you need to decide which of your friends Alice, Bob, Charlie, Dave and Eve to invite. There are a few restrictions:\n",
    "\n",
    "i) Alice and Eve are always fighting, so you definitely do not want to invite both of them.\n",
    "\n",
    "ii) Alice and Charlie are married, so if you invite one of them, you have to invite the other one as well.\n",
    "\n",
    "iii) In order to liven up the atmosphere, you want to invite at least one of your more entertaining friends, Bob and Dave."
   ]
  },
  {
   "cell_type": "markdown",
   "id": "19630f5a",
   "metadata": {
    "slideshow": {
     "slide_type": "slide"
    }
   },
   "source": [
    "iv) Whenever the three guys, Bob, Charlie and Dave, get together, they somehow incite each other and the party might get out of control. So don't invite all three of them.\n",
    "\n",
    "v) You know that if you invite Bob, he will most likely ask Alice about ideas for a birthday present. Therefore, if you invite Bob, you should also invite Alice (but not necessarily the other way around).\n",
    "\n",
    "vi) Dave will only come if Bob comes as well (not the other way around though). So no point to invite him if Bob is not getting invited."
   ]
  },
  {
   "cell_type": "markdown",
   "id": "623e2ad8",
   "metadata": {
    "slideshow": {
     "slide_type": "slide"
    }
   },
   "source": [
    "Let us use Grover's algorithm to figure out which options you have for possible invite lists. To feed these requirements into the oracle, let us encode them as logical statements and then formulate them as a 3-SAT problem. \n",
    "\n",
    "Note that 3-SAT problems can be always written in what is known as conjunctive normal form (CNF), which is a conjunction of clauses (or a single clause). Each clause in the 3-SAT problem is a disjunction (\"or\") of at most three literals. A literal is either a variable, called positive literal, or the negation of a variable, called negative literal."
   ]
  },
  {
   "cell_type": "markdown",
   "id": "3abb49c6",
   "metadata": {
    "slideshow": {
     "slide_type": "slide"
    }
   },
   "source": [
    "To give you an example, the first statement could be encoded as a logical statement as $\\lnot (A \\land E)$. \n",
    "\n",
    "However, this is not a clause (or a conjunction of clauses). We can rewrite it as $\\lnot A \\lor \\lnot E$\n",
    "\n",
    "though, which is a disjunction of two negative literals and therefore a valid clause.\n",
    "\n",
    "For the input to the oracle in Qiskit, we encode each clause as one line with the literals and a 0 in the end, so in this case the corresponding line would be (encoding A as 1, B as 2, C as 3, D as 4 and E as 5),\n",
    "\n",
    "-1 -5 0."
   ]
  },
  {
   "cell_type": "markdown",
   "id": "ff626cee",
   "metadata": {
    "slideshow": {
     "slide_type": "slide"
    }
   },
   "source": [
    "Writing each of the restrictions as a clause or a conjunction of clauses, we get for the six restrictions the following seven clauses as ii) cannot be written as a single clause:\n",
    "\n",
    "i) $\\quad \\lnot A \\lor \\lnot E \\qquad$ -1 -5 0\n",
    "\n",
    "ii) $\\quad (A \\lor \\lnot C) \\land (\\lnot A \\lor C) \\qquad$ 1 -3 0 $\\land$ -1 3 0\n",
    "\n",
    "iii) $\\quad B \\lor D \\qquad$ 2 4 0\n",
    "\n",
    "iv) $\\quad \\lnot B \\lor \\lnot C \\lor \\lnot D \\qquad$ -2 -3 -4 0\n",
    "\n",
    "v) $\\quad A \\lor \\lnot B \\qquad$ 1 -2 0\n",
    "\n",
    "vi) $\\quad B \\lor \\lnot D \\qquad$ 2 -4 0"
   ]
  },
  {
   "cell_type": "code",
   "execution_count": null,
   "id": "31bfa23f",
   "metadata": {
    "slideshow": {
     "slide_type": "slide"
    }
   },
   "outputs": [],
   "source": [
    "from qiskit.circuit.library import PhaseOracle\n",
    "\n",
    "# this indicates that the input is CNF with five variables and seven clauses\n",
    "input_3sat = '''\n",
    "c example DIMACS-CNF 3-SAT\n",
    "p cnf 5 7 \n",
    "-1 -5 0\n",
    "1 -3 0\n",
    "-1 3 0\n",
    "2 4 0\n",
    "-2 -3 -4 0\n",
    "1 -2 0\n",
    "2 -4 0\n",
    "'''\n",
    "\n",
    "with open(\"3sat.dimacs\", \"w\") as text_file:\n",
    "    text_file.write(input_3sat)\n",
    "\n",
    "oracle = PhaseOracle.from_dimacs_file(\"3sat.dimacs\")"
   ]
  },
  {
   "cell_type": "code",
   "execution_count": null,
   "id": "72bae7af",
   "metadata": {
    "slideshow": {
     "slide_type": "slide"
    }
   },
   "outputs": [],
   "source": [
    "from qiskit.algorithms import Grover, AmplificationProblem\n",
    "from qiskit.utils import QuantumInstance\n",
    "\n",
    "backend = Aer.get_backend('aer_simulator')\n",
    "quantum_instance = QuantumInstance(backend, shots=1024)\n",
    "problem = AmplificationProblem(oracle=oracle)\n",
    "\n",
    "# Use Grover's algorithm to solve the problem\n",
    "grover = Grover(quantum_instance=quantum_instance)\n",
    "result = grover.amplify(problem)\n",
    "result.top_measurement"
   ]
  },
  {
   "cell_type": "code",
   "execution_count": null,
   "id": "1bbc4290",
   "metadata": {
    "slideshow": {
     "slide_type": "slide"
    }
   },
   "outputs": [],
   "source": [
    "plot_histogram(result.circuit_results)"
   ]
  },
  {
   "cell_type": "code",
   "execution_count": null,
   "id": "6b6df4ac",
   "metadata": {
    "slideshow": {
     "slide_type": "slide"
    }
   },
   "outputs": [],
   "source": [
    "# transpile the circuit for our backend\n",
    "qc = grover.construct_circuit(problem, max(result.iterations))\n",
    "qc.measure_all()\n",
    "grover_compiled = transpile(qc, backend=backend, optimization_level=3)\n",
    "\n",
    "print('gates = ', grover_compiled.count_ops())\n",
    "print('depth = ', grover_compiled.depth())"
   ]
  },
  {
   "cell_type": "markdown",
   "id": "74ad12c0",
   "metadata": {},
   "source": [
    "Unfortunately, the number of gates needed is above the limits regarding decoherence time of the current near-term quantum computers. Thus, for now we will stick to the simulations ;-)"
   ]
  },
  {
   "cell_type": "code",
   "execution_count": null,
   "id": "e1bdc753",
   "metadata": {
    "slideshow": {
     "slide_type": "slide"
    }
   },
   "outputs": [],
   "source": [
    "import qiskit.tools.jupyter\n",
    "%qiskit_version_table"
   ]
  }
 ],
 "metadata": {
  "celltoolbar": "Slideshow",
  "kernelspec": {
   "display_name": "Python 3 (ipykernel)",
   "language": "python",
   "name": "python3"
  },
  "language_info": {
   "codemirror_mode": {
    "name": "ipython",
    "version": 3
   },
   "file_extension": ".py",
   "mimetype": "text/x-python",
   "name": "python",
   "nbconvert_exporter": "python",
   "pygments_lexer": "ipython3",
   "version": "3.9.7"
  }
 },
 "nbformat": 4,
 "nbformat_minor": 5
}
