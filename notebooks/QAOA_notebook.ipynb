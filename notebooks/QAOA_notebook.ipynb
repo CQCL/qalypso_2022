{
 "cells": [
  {
   "cell_type": "markdown",
   "id": "a3ba3449",
   "metadata": {
    "slideshow": {
     "slide_type": "slide"
    }
   },
   "source": [
    "## The Quantum Approximate Optimisation Algorithm (QAOA) using TKET.\n",
    "\n",
    "Seyon Sivarajah\n",
    "seyon.sivarajah@quantinuum.com"
   ]
  },
  {
   "cell_type": "markdown",
   "id": "45668632",
   "metadata": {
    "slideshow": {
     "slide_type": "subslide"
    }
   },
   "source": [
    "## The Max-Cut problem"
   ]
  },
  {
   "cell_type": "code",
   "execution_count": null,
   "id": "9456fbeb",
   "metadata": {
    "slideshow": {
     "slide_type": "fragment"
    }
   },
   "outputs": [],
   "source": [
    "import networkx as nx\n",
    "import matplotlib.pyplot as plt\n",
    "G = nx.Graph()\n",
    "G.add_edges_from([(0,1), (1,2), (2,0)])\n",
    "plt.figure(figsize=(2,2))\n",
    "nx.draw(G, node_color=['red', 'blue', 'red'])\n",
    "plt.show()"
   ]
  },
  {
   "cell_type": "markdown",
   "id": "cad41481",
   "metadata": {
    "slideshow": {
     "slide_type": "fragment"
    }
   },
   "source": [
    "There are \\\\(2^3\\\\) possible assignments of colour to nodes. In general there are \\\\( 2^n \\\\). The Max-cut problem can then be stated as that of finding the colour assignment which maximises the number of edges between vertices of a different colour."
   ]
  },
  {
   "cell_type": "markdown",
   "id": "7389bbe5",
   "metadata": {
    "slideshow": {
     "slide_type": "subslide"
    }
   },
   "source": [
    "## Quantum Approximate Optimization Algorithm (QAOA)\n",
    "\n",
    "Introduced in 'A Quantum Approximate Optimization Algorithm' (found at https://arxiv.org/abs/1411.4028). The idea is to prepare a quantum state which encodes a solution to the Max-cut problem.\n",
    "\n",
    "\n",
    "This is a variational algorithm, which is to say that a paramaterised state is prepared, with the parameters varied to improve the solution. We will have $2p$ parameters where p is our number of layers. In particular, the state prepared has the form \n",
    "\n",
    "\n",
    "\n",
    "\\\\[ \\left| \\psi \\left( \\beta, \\gamma \\right) \\right\\rangle = U \\left( \\beta_m \\right) U \\left( \\gamma_m \\right) ... U \\left( \\beta_0 \\right) U \\left( \\gamma_0 \\right) \\left| \\psi_0 \\right\\rangle \\\\]\n",
    "where\n",
    "\\\\[ U \\left( \\beta_i \\right) = e^{i \\beta H_B} \\quad \\& \\quad U \\left( \\gamma_i \\right) = e^{i \\gamma H_P} \\\\]\n",
    "with \\\\( H_B \\\\) and \\\\( H_P \\\\) depending on the problem instance. "
   ]
  },
  {
   "cell_type": "markdown",
   "id": "3596e66d",
   "metadata": {},
   "source": [
    "## Cost function for Maxcut\n",
    "$\n",
    "\\begin{equation}\n",
    "C= \\sum_{(i,j)} x_i(1-x_j)\n",
    "\\end{equation}\n",
    "$"
   ]
  },
  {
   "cell_type": "markdown",
   "id": "d720b387",
   "metadata": {
    "slideshow": {
     "slide_type": "subslide"
    }
   },
   "source": [
    "For the previous 3 vertex graph the *problem Hamiltonian* is\n",
    "\\\\[ H_P = \\frac{1}{2} \\big[ \\left( Z \\otimes Z \\otimes I \\right) + \\left( Z \\otimes I \\otimes Z \\right) + \\left( I \\otimes Z \\otimes Z \\right) \\big] \\\\]\n",
    "\n",
    "\n",
    "where you will notice that there is a \\\\( Z \\otimes Z \\\\) acting between each vertex which is connected by an edge."
   ]
  },
  {
   "cell_type": "markdown",
   "id": "8ca2e1b9",
   "metadata": {
    "slideshow": {
     "slide_type": "fragment"
    }
   },
   "source": [
    "The *mixer Hamiltonian* has the form \n",
    "\\\\[ H_B =   \\left( X \\otimes I \\otimes I \\right) + \\left( I \\otimes X \\otimes I \\right) + \\left( I \\otimes I \\otimes X \\right)  \\\\]\n",
    "\n",
    "\n",
    "where you will notice that there is an \\\\( X \\\\) acting on each vertex."
   ]
  },
  {
   "cell_type": "markdown",
   "id": "de6b9e03",
   "metadata": {},
   "source": [
    "## Cost function for Maxcut\n",
    "\n",
    "A solution to maxcut can be found by maximising the following cost function $C$ .\n",
    "\n",
    "\n",
    "\n",
    "$\n",
    "\\begin{equation}\n",
    "C= \\sum_{(i,j)} x_i(1-x_j)\n",
    "\\end{equation}\n",
    "$\n",
    "\n",
    "Here $x_i$ and $x_j$ are the the \"colours\" of each vertex.  \n",
    "\n",
    "$x_i,x_j \\in \\{0,1\\}$\n",
    "\n",
    "$x_i(1-x_j)=0$ if $x_i=x_j$ and $ x_i(1-x_j)=1$ if the terms are not equal."
   ]
  },
  {
   "cell_type": "markdown",
   "id": "61d4e798",
   "metadata": {
    "slideshow": {
     "slide_type": "slide"
    }
   },
   "source": [
    "We want to encode our Maxcut cost function as a Hamiltonain. To do this we can perform the following translation.\n",
    "\n",
    "$\n",
    "\\begin{equation}\n",
    "x_i \\mapsto \\frac{1}{2}(1-Z_i)\n",
    "\\end{equation}\n",
    "$\n",
    "\n",
    "\n",
    "The Pauli Z operator can be used to distinguish between the $|0\\rangle$ and $|1\\rangle$ basis states as these are eigenstates with eigenvalues $\\pm 1$ .\n",
    "\n",
    "$\n",
    "\\begin{equation}\n",
    "H_P = \\frac{1}{2}\\sum_{<jk>} (-Z_j \\,Z_k +I )\n",
    "\\end{equation}\n",
    "$\n",
    "\n",
    "\n",
    "$\n",
    "\\begin{equation}\n",
    "H_B = \\sum_i X_i\n",
    "\\end{equation}\n",
    "$\n",
    "\n",
    "Here we use the the convention that $X_i$ means a Pauli X operator will be applied to the \"ith\" qubit and the identity operator will be applied to all other qubits in the circuit."
   ]
  },
  {
   "cell_type": "code",
   "execution_count": null,
   "id": "aeb6abd9",
   "metadata": {
    "slideshow": {
     "slide_type": "skip"
    }
   },
   "outputs": [],
   "source": [
    "import warnings\n",
    "warnings.filterwarnings(\"ignore\")"
   ]
  },
  {
   "cell_type": "markdown",
   "id": "3cbb783a",
   "metadata": {
    "slideshow": {
     "slide_type": "slide"
    }
   },
   "source": [
    "# Circuit Construction for QAOA"
   ]
  },
  {
   "cell_type": "code",
   "execution_count": null,
   "id": "688f1332",
   "metadata": {
    "slideshow": {
     "slide_type": "slide"
    }
   },
   "outputs": [],
   "source": [
    "import networkx as nx\n",
    "max_cut_graph_edges = [(0,1), (1,2), (1,3), (3,4), (4,5), (4,6)]\n",
    "n_nodes = 7\n",
    "\n",
    "max_cut_graph = nx.Graph()\n",
    "max_cut_graph.add_edges_from(max_cut_graph_edges)\n",
    "nx.draw(max_cut_graph, labels={node: node for node in max_cut_graph.nodes()})\n",
    "\n",
    "expected_results = [(0,1,0,0,1,0,0), (1,0,1,1,0,1,1)]"
   ]
  },
  {
   "cell_type": "markdown",
   "id": "1618c385-74d9-43f8-91ac-152cb12d7e63",
   "metadata": {},
   "source": [
    "<span style=\"color:red\">**EXERCISE 1**</span>\n",
    "What are the max cut solutions for the graph with edges:\n",
    "\n",
    "\n",
    "`[(0, 2), (0, 3), (1, 2), (1, 3), (2,4), (2, 5), (3, 4), (3, 5)]`"
   ]
  },
  {
   "cell_type": "markdown",
   "id": "18a5bd16",
   "metadata": {
    "slideshow": {
     "slide_type": "slide"
    }
   },
   "source": [
    "## Define Cost Hamiltonian: $\\gamma H$"
   ]
  },
  {
   "cell_type": "markdown",
   "id": "543f87ca",
   "metadata": {},
   "source": [
    "$\n",
    "\\begin{equation}\n",
    "H_P = \\frac{1}{2}\\sum_{<jk>} (-Z_j \\,Z_k +I )\n",
    "\\end{equation}\n",
    "$"
   ]
  },
  {
   "cell_type": "code",
   "execution_count": null,
   "id": "99226b24",
   "metadata": {
    "scrolled": true,
    "slideshow": {
     "slide_type": "fragment"
    }
   },
   "outputs": [],
   "source": [
    "from typing import List, Tuple, Any\n",
    "from pytket.utils import QubitPauliOperator\n",
    "from pytket.pauli import QubitPauliString, Pauli\n",
    "from pytket import Qubit\n",
    "\n",
    "def qaoa_graph_to_cost_hamiltonian(edges: List[Tuple[int, int]], cost_angle: float) -> QubitPauliOperator:\n",
    "    qpo_dict = {QubitPauliString(): len(edges)*0.5*cost_angle}\n",
    "    for e in edges:\n",
    "        term_string = QubitPauliString([Qubit(e[0]), Qubit(e[1])], [Pauli.Z, Pauli.Z])\n",
    "        qpo_dict[term_string] = -0.5*cost_angle\n",
    "    return QubitPauliOperator(qpo_dict)\n",
    "\n",
    "cost_angle = 1.0\n",
    "cost_ham_qpo = qaoa_graph_to_cost_hamiltonian(max_cut_graph_edges, cost_angle)\n",
    "print(cost_ham_qpo)"
   ]
  },
  {
   "cell_type": "markdown",
   "id": "6da499ac",
   "metadata": {
    "slideshow": {
     "slide_type": "fragment"
    }
   },
   "source": [
    "$\n",
    "\\begin{equation}\n",
    "H_P = 3 I^{\\otimes 6} -0.5 \\big[ Z_0 Z_1 + Z_1 Z_2 +Z_1 Z_3 +Z_3 Z_4 +Z_4 Z_5 +Z_4 Z_6  \\big]\n",
    "\\end{equation}\n",
    "$\n",
    "\n",
    "Using the same index convention as above"
   ]
  },
  {
   "cell_type": "markdown",
   "id": "57c4f593-cf9f-4640-938b-61353b6ea932",
   "metadata": {},
   "source": [
    "<span style=\"color:red\">**EXERCISE 2**</span>\n",
    "What is the cost hamiltonian for the graph in Exercise 1? Write it down, then verify it using the function above."
   ]
  },
  {
   "cell_type": "markdown",
   "id": "785ff56c",
   "metadata": {
    "slideshow": {
     "slide_type": "slide"
    }
   },
   "source": [
    "## Hamiltonian Circuit"
   ]
  },
  {
   "cell_type": "code",
   "execution_count": null,
   "id": "11fe9917",
   "metadata": {
    "slideshow": {
     "slide_type": "fragment"
    }
   },
   "outputs": [],
   "source": [
    "from pytket.utils import gen_term_sequence_circuit\n",
    "from pytket import Circuit\n",
    "from pytket.circuit import display\n",
    "\n",
    "cost_ham_circuit = gen_term_sequence_circuit(cost_ham_qpo, Circuit(n_nodes))\n",
    "display.render_circuit_jupyter(cost_ham_circuit)"
   ]
  },
  {
   "cell_type": "code",
   "execution_count": null,
   "id": "9057c55f",
   "metadata": {
    "slideshow": {
     "slide_type": "slide"
    }
   },
   "outputs": [],
   "source": [
    "from pytket.transform import Transform\n",
    "\n",
    "Transform.DecomposeBoxes().apply(cost_ham_circuit)\n",
    "display.render_circuit_jupyter(cost_ham_circuit)"
   ]
  },
  {
   "cell_type": "markdown",
   "id": "4690b787",
   "metadata": {
    "slideshow": {
     "slide_type": "slide"
    }
   },
   "source": [
    "## Construction of the Mixer Hamiltonian: $\\beta B$"
   ]
  },
  {
   "cell_type": "code",
   "execution_count": null,
   "id": "296c560d",
   "metadata": {
    "slideshow": {
     "slide_type": "fragment"
    }
   },
   "outputs": [],
   "source": [
    "mixer_angle = 0.8\n",
    "mixer_ham_qpo =  QubitPauliOperator({QubitPauliString([Qubit(i)], [Pauli.X]): mixer_angle for i in range(n_nodes)})\n",
    "mixer_ham_circuit = gen_term_sequence_circuit(mixer_ham_qpo, Circuit(n_nodes))\n",
    "Transform.DecomposeBoxes().apply(mixer_ham_circuit)\n",
    "display.render_circuit_jupyter(mixer_ham_circuit)"
   ]
  },
  {
   "cell_type": "markdown",
   "id": "4d128a70",
   "metadata": {
    "slideshow": {
     "slide_type": "slide"
    }
   },
   "source": [
    "## Define the Initial State"
   ]
  },
  {
   "cell_type": "code",
   "execution_count": null,
   "id": "0a9db628",
   "metadata": {
    "slideshow": {
     "slide_type": "fragment"
    }
   },
   "outputs": [],
   "source": [
    "def qaoa_initial_circuit(n_qubits: int) -> Circuit:\n",
    "    c = Circuit(n_qubits)\n",
    "    for i in range(n_qubits):\n",
    "        c.H(i)\n",
    "    return c\n",
    "\n",
    "superposition_circuit = qaoa_initial_circuit(n_nodes)\n",
    "\n",
    "display.render_circuit_jupyter(superposition_circuit)"
   ]
  },
  {
   "cell_type": "markdown",
   "id": "da759b59",
   "metadata": {
    "slideshow": {
     "slide_type": "slide"
    }
   },
   "source": [
    "## Construct QAOA Circuit"
   ]
  },
  {
   "cell_type": "code",
   "execution_count": null,
   "id": "23f8910a",
   "metadata": {
    "slideshow": {
     "slide_type": "fragment"
    }
   },
   "outputs": [],
   "source": [
    "def qaoa_max_cut_circuit(edges: List[Tuple[int, int]],\n",
    "                         n_nodes: int,\n",
    "                         mixer_angles: List[float],\n",
    "                         cost_angles: List[float]) -> Circuit:\n",
    "    \n",
    "    assert len(mixer_angles) == len(cost_angles)\n",
    "    \n",
    "    # initial state\n",
    "    qaoa_circuit = qaoa_initial_circuit(n_nodes)\n",
    "    \n",
    "    # add cost and mixer terms to state\n",
    "    for cost, mixer in zip(cost_angles, mixer_angles):\n",
    "        cost_ham = qaoa_graph_to_cost_hamiltonian(edges, cost)\n",
    "        mixer_ham = QubitPauliOperator({QubitPauliString([Qubit(i)], [Pauli.X]): mixer for i in range(n_nodes)})\n",
    "        qaoa_circuit.append(gen_term_sequence_circuit(cost_ham, Circuit(n_nodes)))\n",
    "        qaoa_circuit.append(gen_term_sequence_circuit(mixer_ham, Circuit(n_nodes)))\n",
    "        \n",
    "    Transform.DecomposeBoxes().apply(qaoa_circuit)\n",
    "    return qaoa_circuit"
   ]
  },
  {
   "cell_type": "markdown",
   "id": "38367e35",
   "metadata": {
    "slideshow": {
     "slide_type": "slide"
    }
   },
   "source": [
    "## Measurement to the Circuit"
   ]
  },
  {
   "cell_type": "code",
   "execution_count": null,
   "id": "e044b0fa",
   "metadata": {
    "slideshow": {
     "slide_type": "fragment"
    }
   },
   "outputs": [],
   "source": [
    "from pytket.circuit import Bit\n",
    "\n",
    "def qaoa_gen_all_measurement_circuit(ham: QubitPauliOperator,\n",
    "                                     my_prep_circuit: Circuit):\n",
    "\n",
    "    all_measurement_circuit = []\n",
    "\n",
    "    for qps, cof in ham._dict.items():    \n",
    "        measurement_circuit = Circuit()\n",
    "        measured_qbs = []\n",
    "        for qb, p in qps.map.items():\n",
    "            if p == Pauli.I:\n",
    "                continue\n",
    "            measured_qbs.append(qb)\n",
    "            measurement_circuit.add_qubit(qb)\n",
    "            if p == Pauli.X: # unused in our case\n",
    "                measurement_circuit.H(qb)\n",
    "            elif p == Pauli.Y: # unused in our case\n",
    "                measurement_circuit.Rx(0.5, qb)\n",
    "        bits = []\n",
    "        for b_idx, qb in enumerate(measured_qbs):\n",
    "            unit = Bit(b_idx)\n",
    "            bits.append(unit)\n",
    "            measurement_circuit.add_bit(unit, False)\n",
    "            measurement_circuit.Measure(qb, unit)\n",
    "\n",
    "        c = my_prep_circuit.copy()\n",
    "        c.append(measurement_circuit)\n",
    "        all_measurement_circuit.append((c, (qps, bits)))    \n",
    "    \n",
    "    return all_measurement_circuit"
   ]
  },
  {
   "cell_type": "markdown",
   "id": "876b6ceb",
   "metadata": {
    "slideshow": {
     "slide_type": "slide"
    }
   },
   "source": [
    "## Calculate the Energy of the Results"
   ]
  },
  {
   "cell_type": "code",
   "execution_count": null,
   "id": "814f1d43",
   "metadata": {
    "slideshow": {
     "slide_type": "fragment"
    }
   },
   "outputs": [],
   "source": [
    "from pytket.backends.backendresult import BackendResult\n",
    "\n",
    "def qaoa_estimated_energy(results: BackendResult,\n",
    "                          all_measurement_circuit: List[Tuple[Circuit, Tuple[Any, int]]],\n",
    "                          ham: QubitPauliOperator):\n",
    "\n",
    "    organised_results = {}\n",
    "\n",
    "    for r, c in zip(results, all_measurement_circuit):\n",
    "        bits=c[1][1]\n",
    "        counts = r.get_counts(cbits=bits)\n",
    "        expectations = expectation_from_counts(counts)\n",
    "        # c[1][0] is the qubit pauli string\n",
    "        organised_results[c[1][0]] = expectations\n",
    "    \n",
    "    # calculate expectation of hamiltonian observable:\n",
    "    estimated_energy = 0\n",
    "\n",
    "    for qps, coef in ham._dict.items():\n",
    "        expect = organised_results[qps]\n",
    "        estimate = expect * coef\n",
    "        estimated_energy += estimate\n",
    "    \n",
    "    return estimated_energy"
   ]
  },
  {
   "cell_type": "markdown",
   "id": "f98a31d4",
   "metadata": {
    "slideshow": {
     "slide_type": "slide"
    }
   },
   "source": [
    "## Set up QAOA Instance"
   ]
  },
  {
   "cell_type": "code",
   "execution_count": null,
   "id": "88f91157",
   "metadata": {
    "slideshow": {
     "slide_type": "fragment"
    }
   },
   "outputs": [],
   "source": [
    "from pytket.backends import Backend\n",
    "from typing import Callable\n",
    "import numpy as np\n",
    "from pytket.utils import expectation_from_counts\n",
    "\n",
    "def qaoa_instance(backend: Backend,\n",
    "                  compiler_pass: Callable[[Circuit], bool],\n",
    "                  guess_mixer_angles: np.array,\n",
    "                  guess_cost_angles: np.array,\n",
    "                  shots: int = 5000) -> float:\n",
    "\n",
    "    assert len(guess_mixer_angles) == len(guess_cost_angles)\n",
    "    \n",
    "    # step 1: get state guess\n",
    "    my_prep_circuit = qaoa_max_cut_circuit(max_cut_graph_edges,\n",
    "                                           n_nodes,\n",
    "                                           guess_mixer_angles,\n",
    "                                           guess_cost_angles)\n",
    "    \n",
    "    # step 2: get problem hamiltonian\n",
    "    ham = qaoa_graph_to_cost_hamiltonian(max_cut_graph_edges, 1.0)\n",
    "    \n",
    "    # step 3: prepare measurement circuit\n",
    "    all_measurement_circuit = qaoa_gen_all_measurement_circuit(ham, my_prep_circuit)\n",
    "        \n",
    "    # step 4: compile the circuit for the backend\n",
    "    for c in all_measurement_circuit:\n",
    "        compiler_pass(c[0])\n",
    "\n",
    "    # step 5: run measurement circuit on backend   \n",
    "    handles = backend.process_circuits([c[0] for c in all_measurement_circuit], shots)\n",
    "    \n",
    "    # step 6: get expectations\n",
    "    results = backend.get_results(handles)\n",
    "    estimated_energy = qaoa_estimated_energy(results, all_measurement_circuit, ham)\n",
    "        \n",
    "    return estimated_energy"
   ]
  },
  {
   "cell_type": "markdown",
   "id": "9845efdd-7fda-4ed9-ba12-891aee0f48c2",
   "metadata": {},
   "source": [
    "### Simplified qaoa instane"
   ]
  },
  {
   "cell_type": "code",
   "execution_count": null,
   "id": "df7cf77f",
   "metadata": {},
   "outputs": [],
   "source": [
    "from typing import List, Tuple\n",
    "from pytket.backends.backendresult import BackendResult\n",
    "\n",
    "\n",
    "def max_cut_energy(edges: List[Tuple[int, int]], results: BackendResult) -> float:\n",
    "    energy = 0.0\n",
    "    dist = results.get_distribution()\n",
    "    for i, j in edges:\n",
    "        energy += sum((meas[i] ^ meas[j]) * prob for meas, prob in dist.items())\n",
    "\n",
    "    return energy\n",
    "\n",
    "\n",
    "def qaoa_instance_simple(\n",
    "    backend: Backend,\n",
    "    compiler_pass: Callable[[Circuit], bool],\n",
    "    guess_mixer_angles: np.array,\n",
    "    guess_cost_angles: np.array,\n",
    "    seed: int,\n",
    "    shots: int = 5000,\n",
    ") -> float:\n",
    "    # step 1: get state guess\n",
    "    my_prep_circuit = qaoa_max_cut_circuit(\n",
    "        max_cut_graph_edges, n_nodes, guess_mixer_angles, guess_cost_angles\n",
    "    )\n",
    "    measured_circ = my_prep_circuit.copy().measure_all()\n",
    "    compiler_pass(measured_circ)\n",
    "    res = backend.run_circuit(measured_circ, shots, seed=seed)\n",
    "\n",
    "    return max_cut_energy(max_cut_graph_edges, res)"
   ]
  },
  {
   "cell_type": "markdown",
   "id": "2c01c28b",
   "metadata": {
    "slideshow": {
     "slide_type": "slide"
    }
   },
   "source": [
    "## Optimise Energy by Guessing Parameters"
   ]
  },
  {
   "cell_type": "code",
   "execution_count": null,
   "id": "0a44bed8",
   "metadata": {
    "slideshow": {
     "slide_type": "fragment"
    }
   },
   "outputs": [],
   "source": [
    "def qaoa_optimise_energy(compiler_pass: Callable[[Circuit], bool],\n",
    "                         backend: Backend,\n",
    "                         iterations: int = 100,\n",
    "                         n: int = 3,\n",
    "                         shots: int = 5000,\n",
    "                         seed: int= 12345):\n",
    "    \n",
    "    highest_energy = 0    \n",
    "    best_guess_mixer_angles = [0 for i in range(n)]    \n",
    "    best_guess_cost_angles = [0 for i in range(n)]\n",
    "    rng = np.random.default_rng(seed)\n",
    "    # guess some angles (iterations)-times and try if they are better than the best angles found before\n",
    "    \n",
    "    for i in range(iterations):\n",
    "        \n",
    "        guess_mixer_angles = rng.uniform(0, 1, n)\n",
    "        guess_cost_angles = rng.uniform(0, 1, n)\n",
    "        \n",
    "        qaoa_energy = qaoa_instance_simple(backend,\n",
    "                                    compiler_pass,\n",
    "                                    guess_mixer_angles,\n",
    "                                    guess_cost_angles,\n",
    "                                    seed=seed,\n",
    "                                    shots=shots)\n",
    "        \n",
    "        if(qaoa_energy > highest_energy):\n",
    "            \n",
    "            print(\"new highest energy found: \", qaoa_energy)\n",
    "            \n",
    "            best_guess_mixer_angles = guess_mixer_angles\n",
    "            best_guess_cost_angles = guess_cost_angles\n",
    "            highest_energy = qaoa_energy\n",
    "            \n",
    "    print(\"highest energy: \", highest_energy)\n",
    "    print(\"best guess mixer angles: \", best_guess_mixer_angles)\n",
    "    print(\"best guess cost angles: \", best_guess_cost_angles)\n",
    "    return best_guess_mixer_angles, best_guess_cost_angles"
   ]
  },
  {
   "cell_type": "markdown",
   "id": "bbfeb222-95ab-46ff-8a83-98a7a7788e98",
   "metadata": {},
   "source": [
    "<span style=\"color:red\">**EXERCISE 3**</span>\n",
    "Can you define an alternative `qaoa_optimise_energy` which uses a classical optimiser to find the best angles? (Hint: try playing with `scipy.optimize.minimize`)\n"
   ]
  },
  {
   "cell_type": "markdown",
   "id": "d22226cc",
   "metadata": {
    "slideshow": {
     "slide_type": "slide"
    }
   },
   "source": [
    "## Calculate the State for the final Parameters"
   ]
  },
  {
   "cell_type": "code",
   "execution_count": null,
   "id": "da46e63d",
   "metadata": {
    "slideshow": {
     "slide_type": "fragment"
    }
   },
   "outputs": [],
   "source": [
    "import qaoaplotfunctions as qaoaplot\n",
    "\n",
    "def qaoa_calculate(backend: Backend,\n",
    "                   compiler_pass: Callable[[Circuit], bool],\n",
    "                   shots: int = 5000,\n",
    "                   iterations: int = 100,\n",
    "                   seed: int = 12345,\n",
    "                  ) -> float:\n",
    "    \n",
    "    # find the parameters for the highest energy\n",
    "    best_mixer, best_cost = qaoa_optimise_energy(compiler_pass,\n",
    "                                                 backend,\n",
    "                                                 iterations,\n",
    "                                                 3,\n",
    "                                                 shots=shots,\n",
    "                                                 seed=seed)\n",
    "    \n",
    "    # get the circuit with the final parameters of the optimisation:\n",
    "    my_qaoa_circuit = qaoa_max_cut_circuit(max_cut_graph_edges,\n",
    "                                           n_nodes,\n",
    "                                           best_mixer,\n",
    "                                           best_cost)\n",
    "\n",
    "    my_qaoa_circuit.measure_all()\n",
    "\n",
    "    compiler_pass(my_qaoa_circuit)\n",
    "    handle = backend.process_circuit(my_qaoa_circuit, shots, seed=seed)\n",
    "\n",
    "    result = backend.get_result(handle)    \n",
    "\n",
    "    qaoaplot.plotresults(result, expected_results)\n"
   ]
  },
  {
   "cell_type": "markdown",
   "id": "9dd97e10",
   "metadata": {
    "slideshow": {
     "slide_type": "slide"
    }
   },
   "source": [
    "## Results with the Noiseless Simulator"
   ]
  },
  {
   "cell_type": "code",
   "execution_count": null,
   "id": "e7afb38e",
   "metadata": {
    "slideshow": {
     "slide_type": "fragment"
    }
   },
   "outputs": [],
   "source": [
    "from pytket.extensions.qiskit import AerBackend\n",
    "\n",
    "backend = AerBackend()\n",
    "comp = backend.get_compiled_circuit"
   ]
  },
  {
   "cell_type": "code",
   "execution_count": null,
   "id": "aaea7e2f",
   "metadata": {
    "slideshow": {
     "slide_type": "slide"
    }
   },
   "outputs": [],
   "source": [
    "%%time\n",
    "qaoa_calculate(backend, backend.default_compilation_pass(1).apply, shots = 5000, iterations = 100, seed=12345)"
   ]
  },
  {
   "cell_type": "markdown",
   "id": "f3119b81",
   "metadata": {
    "slideshow": {
     "slide_type": "slide"
    }
   },
   "source": [
    "## Results with the Noisy Simulator"
   ]
  },
  {
   "cell_type": "code",
   "execution_count": null,
   "id": "17733c0f-d69a-4ec4-ac41-dacd8e5b2716",
   "metadata": {},
   "outputs": [],
   "source": [
    "# This requires an IBMQ account, set yours as appropriate here\n",
    "from pytket.extensions.qiskit.backends.config import set_ibmq_config \n",
    "# set the below as appropriate\n",
    "# set_ibmq_config(ibmq_api_token=\"\",\n",
    "#                 hub=\"\", \n",
    "#                 group=\"\", \n",
    "#                 project=\"\")\n"
   ]
  },
  {
   "cell_type": "code",
   "execution_count": null,
   "id": "f71709b9",
   "metadata": {
    "slideshow": {
     "slide_type": "fragment"
    }
   },
   "outputs": [],
   "source": [
    "from pytket.extensions.qiskit import IBMQEmulatorBackend\n",
    "\n",
    "backend = IBMQEmulatorBackend('ibmq_guadalupe')\n"
   ]
  },
  {
   "cell_type": "code",
   "execution_count": null,
   "id": "e5757ab6",
   "metadata": {
    "slideshow": {
     "slide_type": "slide"
    }
   },
   "outputs": [],
   "source": [
    "qaoa_calculate(backend, backend.default_compilation_pass(1).apply, shots = 5000, iterations = 100, seed=12347)"
   ]
  },
  {
   "cell_type": "markdown",
   "id": "b0376038",
   "metadata": {
    "slideshow": {
     "slide_type": "slide"
    }
   },
   "source": [
    "## Circuit of one QAOA Instance with one Mixer and one Cost Angle"
   ]
  },
  {
   "cell_type": "code",
   "execution_count": null,
   "id": "cb48b90b",
   "metadata": {
    "slideshow": {
     "slide_type": "fragment"
    }
   },
   "outputs": [],
   "source": [
    "my_qaoa_circuit = qaoa_max_cut_circuit(max_cut_graph_edges, n_nodes, [0.8], [1.0])\n",
    "display.render_circuit_jupyter(my_qaoa_circuit)"
   ]
  },
  {
   "cell_type": "code",
   "execution_count": null,
   "id": "1be9251f",
   "metadata": {
    "slideshow": {
     "slide_type": "slide"
    }
   },
   "outputs": [],
   "source": [
    "from pytket.circuit import OpType\n",
    "\n",
    "print(\"Number of gates in Circuit: \", my_qaoa_circuit.n_gates)\n",
    "print(\"Number of CX gates in Circuit: \", my_qaoa_circuit.n_gates_of_type(OpType.CX))"
   ]
  },
  {
   "cell_type": "markdown",
   "id": "96f2d668-4a0c-4118-9387-05c02c4c168d",
   "metadata": {},
   "source": [
    "<span style=\"color:red\">**EXERCISE 4**</span>\n",
    "Adding more angles generally leads to a more accurate solution, but on the other hand adds more layers and therefore more noise. For a given noisy simulator backend, find the best balance between number of angles and noise. (**Hint**: what are you trying to optimise? How can you measure this quantity?)"
   ]
  },
  {
   "cell_type": "markdown",
   "id": "9ba284ad",
   "metadata": {
    "slideshow": {
     "slide_type": "slide"
    }
   },
   "source": [
    "## Compile Circuit for Device"
   ]
  },
  {
   "cell_type": "code",
   "execution_count": null,
   "id": "580eea68",
   "metadata": {
    "slideshow": {
     "slide_type": "fragment"
    }
   },
   "outputs": [],
   "source": [
    "guadalupe_backend = IBMQEmulatorBackend('ibmq_guadalupe')\n",
    "my_qaoa_circuit = qaoa_max_cut_circuit(max_cut_graph_edges, n_nodes, [0.8], [1.0])\n",
    "compiled_qaoa_circuit=guadalupe_backend.get_compiled_circuit(my_qaoa_circuit)\n",
    "print(\"Number of gates in circuit: \", compiled_qaoa_circuit.n_gates)\n",
    "print(\"Number of CX gates in circuit: \", compiled_qaoa_circuit.n_gates_of_type(OpType.CX))\n",
    "display.render_circuit_jupyter(compiled_qaoa_circuit)"
   ]
  },
  {
   "cell_type": "code",
   "execution_count": null,
   "id": "1ff25fec",
   "metadata": {
    "slideshow": {
     "slide_type": "slide"
    }
   },
   "outputs": [],
   "source": [
    "from pytket.passes import OptimisePhaseGadgets\n",
    "\n",
    "my_qaoa_circuit = qaoa_max_cut_circuit(max_cut_graph_edges, n_nodes, [0.8], [1.0])\n",
    "OptimisePhaseGadgets().apply(my_qaoa_circuit)\n",
    "print(\"Number of gates in Circuit: \", my_qaoa_circuit.n_gates)\n",
    "print(\"Number of CX gates in Circuit: \", my_qaoa_circuit.n_gates_of_type(OpType.CX))\n",
    "display.render_circuit_jupyter(my_qaoa_circuit)"
   ]
  },
  {
   "cell_type": "code",
   "execution_count": null,
   "id": "01844bca",
   "metadata": {
    "slideshow": {
     "slide_type": "slide"
    }
   },
   "outputs": [],
   "source": [
    "from pytket.placement import NoiseAwarePlacement\n",
    "\n",
    "guadalupe_info = guadalupe_backend.backend_info\n",
    "guadalupe_placer = NoiseAwarePlacement(arc=guadalupe_info.architecture,\n",
    "                                       node_errors=guadalupe_info.averaged_node_gate_errors,\n",
    "                                       link_errors=guadalupe_info.averaged_edge_gate_errors,\n",
    "                                       readout_errors=guadalupe_info.averaged_readout_errors)\n",
    "\n",
    "my_qaoa_circuit = qaoa_max_cut_circuit(max_cut_graph_edges, n_nodes, [0.8], [1.0])\n",
    "\n",
    "print(guadalupe_placer.get_placement_map(my_qaoa_circuit))\n",
    "guadalupe_placer.modify_config(depth_limit = 100, max_matches = 20000)\n",
    "print(guadalupe_placer.get_placement_map(my_qaoa_circuit))"
   ]
  },
  {
   "cell_type": "code",
   "execution_count": null,
   "id": "326e3cc3",
   "metadata": {
    "slideshow": {
     "slide_type": "slide"
    }
   },
   "outputs": [],
   "source": [
    "from pytket.passes import CXMappingPass\n",
    "\n",
    "my_qaoa_circuit = qaoa_max_cut_circuit(max_cut_graph_edges, n_nodes, [0.8], [1.0])\n",
    "\n",
    "guadalupe_mapping_pass = CXMappingPass(\n",
    "    guadalupe_info.architecture,\n",
    "    guadalupe_placer,\n",
    "    directed_cx=False\n",
    ")\n",
    "guadalupe_mapping_pass.apply(my_qaoa_circuit)\n",
    "print(\"Number of gates in Circuit: \", my_qaoa_circuit.n_gates)\n",
    "print(\"Number of CX gates in Circuit: \", my_qaoa_circuit.n_gates_of_type(OpType.CX))\n",
    "\n",
    "display.render_circuit_jupyter(my_qaoa_circuit)"
   ]
  },
  {
   "cell_type": "markdown",
   "id": "b81d7d84",
   "metadata": {
    "slideshow": {
     "slide_type": "slide"
    }
   },
   "source": [
    "# Predicates"
   ]
  },
  {
   "cell_type": "code",
   "execution_count": null,
   "id": "2025fcde",
   "metadata": {
    "slideshow": {
     "slide_type": "slide"
    }
   },
   "outputs": [],
   "source": [
    "from pytket.predicates import GateSetPredicate, NoMidMeasurePredicate, ConnectivityPredicate\n",
    "\n",
    "my_qaoa_circuit = qaoa_max_cut_circuit(max_cut_graph_edges, n_nodes, [0.8], [1.0])\n",
    "\n",
    "ibm_gateset = GateSetPredicate({OpType.X, OpType.SX, OpType.Rz, OpType.CX, OpType.Measure})\n",
    "\n",
    "print(\"check ibm gateset predicate: \", ibm_gateset.verify(my_qaoa_circuit))\n",
    "\n",
    "midmeasure = NoMidMeasurePredicate()\n",
    "\n",
    "print(\"check mid measure predicate: \", midmeasure.verify(my_qaoa_circuit))\n",
    "\n",
    "ibm_conn_predicate = ConnectivityPredicate(guadalupe_info.architecture)\n",
    "\n",
    "print(\"check ibm connectivity predicate predicate: \", ibm_conn_predicate.verify(my_qaoa_circuit))"
   ]
  },
  {
   "cell_type": "code",
   "execution_count": null,
   "id": "b7f41a80",
   "metadata": {
    "slideshow": {
     "slide_type": "slide"
    }
   },
   "outputs": [],
   "source": [
    "from pytket.passes.auto_rebase import auto_rebase_pass\n",
    "ibm_rebase = auto_rebase_pass({OpType.CX, OpType.X, OpType.SX, OpType.Rz, OpType.CX})\n",
    "ibm_rebase.apply(my_qaoa_circuit)\n",
    "\n",
    "print(\"check ibm gateset predicate: \", ibm_gateset.verify(my_qaoa_circuit))\n",
    "\n",
    "print(\"Number of gates in Circuit: \", my_qaoa_circuit.n_gates)\n",
    "print(\"Number of CX gates in Circuit: \", my_qaoa_circuit.n_gates_of_type(OpType.CX))"
   ]
  },
  {
   "cell_type": "markdown",
   "id": "72e11621-b544-47d1-a190-0e865e09abd5",
   "metadata": {
    "slideshow": {
     "slide_type": "slide"
    }
   },
   "source": [
    "## Local Gate Optimisation"
   ]
  },
  {
   "cell_type": "code",
   "execution_count": null,
   "id": "c7855dc2",
   "metadata": {
    "slideshow": {
     "slide_type": "fragment"
    }
   },
   "outputs": [],
   "source": [
    "from pytket.passes import FullPeepholeOptimise\n",
    "\n",
    "my_qaoa_circuit = qaoa_max_cut_circuit(max_cut_graph_edges, n_nodes, [0.8], [1.0])\n",
    "\n",
    "\n",
    "FullPeepholeOptimise().apply(my_qaoa_circuit)\n",
    "print(\"Number of gates in Circuit: \", my_qaoa_circuit.n_gates)\n",
    "print(\"Number of CX gates in Circuit: \", my_qaoa_circuit.n_gates_of_type(OpType.CX))\n",
    "\n",
    "display.render_circuit_jupyter(my_qaoa_circuit)"
   ]
  },
  {
   "cell_type": "markdown",
   "id": "251f9879",
   "metadata": {
    "slideshow": {
     "slide_type": "slide"
    }
   },
   "source": [
    "## Sequence Pass"
   ]
  },
  {
   "cell_type": "code",
   "execution_count": null,
   "id": "4f8cce57",
   "metadata": {
    "slideshow": {
     "slide_type": "fragment"
    }
   },
   "outputs": [],
   "source": [
    "from pytket.passes import SequencePass, RemoveRedundancies\n",
    "\n",
    "sequence_pass = SequencePass([OptimisePhaseGadgets(),\n",
    "                              FullPeepholeOptimise(),\n",
    "                              guadalupe_mapping_pass,\n",
    "                              FullPeepholeOptimise(allow_swaps=False),\n",
    "                              ibm_rebase, RemoveRedundancies()])\n",
    "\n",
    "my_qaoa_circuit = qaoa_max_cut_circuit(max_cut_graph_edges, n_nodes, [0.8], [1.0])\n",
    "sequence_pass.apply(my_qaoa_circuit)\n",
    "print(\"Number of gates in circuit: \", my_qaoa_circuit.n_gates)\n",
    "print(\"Number of CX gates in circuit: \", my_qaoa_circuit.n_gates_of_type(OpType.CX))\n",
    "\n",
    "display.render_circuit_jupyter(my_qaoa_circuit)"
   ]
  },
  {
   "cell_type": "markdown",
   "id": "6ba158d6-cfdb-474c-90f6-719e3900560c",
   "metadata": {},
   "source": [
    "<span style=\"color:red\">**EXERCISE 5**</span>\n",
    "\n",
    "Define your own `SequencePass` from pytket passes ([docs](https://cqcl.github.io/tket/pytket/api/passes.html), [example](https://github.com/CQCL/pytket/blob/main/examples/compilation_example.ipynb)), such that it outperforms the one defined above in terms of number of gates or number of CX gates.\n",
    "\n",
    "Verify your pass produces correct outputs for the ibmq_guadalupe backend."
   ]
  },
  {
   "cell_type": "markdown",
   "id": "81462b0d",
   "metadata": {
    "slideshow": {
     "slide_type": "slide"
    }
   },
   "source": [
    "## Compilation Units"
   ]
  },
  {
   "cell_type": "code",
   "execution_count": null,
   "id": "7f3f1c9b",
   "metadata": {
    "slideshow": {
     "slide_type": "fragment"
    }
   },
   "outputs": [],
   "source": [
    "from pytket.predicates import CompilationUnit\n",
    "\n",
    "my_qaoa_circuit = qaoa_max_cut_circuit(max_cut_graph_edges, n_nodes, [0.8], [1.0])\n",
    "\n",
    "\n",
    "cu = CompilationUnit(my_qaoa_circuit, [ibm_gateset, midmeasure, ibm_conn_predicate])\n",
    "\n",
    "print(cu.check_all_predicates())\n",
    "\n",
    "sequence_pass.apply(cu)\n",
    "\n",
    "print(cu.check_all_predicates())\n",
    "\n",
    "print(\"Number of gates in circuit: \", my_qaoa_circuit.n_gates)\n",
    "print(\"Number of CX gates in circuit: \", my_qaoa_circuit.n_gates_of_type(OpType.CX))"
   ]
  },
  {
   "cell_type": "code",
   "execution_count": null,
   "id": "9ec32e0a",
   "metadata": {
    "slideshow": {
     "slide_type": "slide"
    }
   },
   "outputs": [],
   "source": [
    "backend = IBMQEmulatorBackend('ibmq_guadalupe')\n",
    "comp = sequence_pass.apply\n",
    "qaoa_calculate(backend, comp, shots = 5000, iterations = 100)"
   ]
  },
  {
   "cell_type": "markdown",
   "id": "fb7715e6",
   "metadata": {
    "slideshow": {
     "slide_type": "slide"
    }
   },
   "source": [
    "## Use symbolic compilation to reduce the compile time"
   ]
  },
  {
   "cell_type": "code",
   "execution_count": null,
   "id": "ea9b3186",
   "metadata": {
    "slideshow": {
     "slide_type": "fragment"
    }
   },
   "outputs": [],
   "source": [
    "from sympy import symbols\n",
    "from pytket.predicates import NoSymbolsPredicate\n",
    "\n",
    "a, b = symbols(\"a b\")\n",
    "circ_symbolic = Circuit(2)\n",
    "circ_symbolic.Ry(a, 0)\n",
    "circ_symbolic.Ry(a, 1)\n",
    "circ_symbolic.CX(0, 1)\n",
    "circ_symbolic.Rz(b, 1)\n",
    "circ_symbolic.CX(0, 1)\n",
    "\n",
    "backend = AerBackend()\n",
    "\n",
    "# compile once\n",
    "circ_symbolic = backend.get_compiled_circuit(circ_symbolic)   \n",
    "\n",
    "print(NoSymbolsPredicate().verify(circ_symbolic))\n",
    "\n",
    "circ_runable = circ_symbolic.copy()\n",
    "circ_runable.symbol_substitution({a : 0.1, b : 0.2})\n",
    "    \n",
    "print(NoSymbolsPredicate().verify(circ_runable))\n",
    "\n",
    "# no need to compile again\n",
    "handle = backend.process_circuit(circ_runable, 5000)"
   ]
  },
  {
   "cell_type": "markdown",
   "id": "066cf758",
   "metadata": {
    "slideshow": {
     "slide_type": "slide"
    }
   },
   "source": [
    "## Define Symbolic Parameters using Sympy"
   ]
  },
  {
   "cell_type": "code",
   "execution_count": null,
   "id": "53f2d6c4",
   "metadata": {
    "slideshow": {
     "slide_type": "fragment"
    }
   },
   "outputs": [],
   "source": [
    "a_s, b_s, c_s, d_s, e_s, f_s = symbols(\"a b c d e f\")"
   ]
  },
  {
   "cell_type": "code",
   "execution_count": null,
   "id": "f93cd2c7",
   "metadata": {
    "slideshow": {
     "slide_type": "slide"
    }
   },
   "outputs": [],
   "source": [
    "def qaoa_sym_all_measurement_circuit(compiler_pass: Callable[[Circuit], bool]) -> List[Tuple[Circuit, Tuple[Any, int]]]:\n",
    "\n",
    "    # define the circuit\n",
    "    my_prep_curcuit = qaoa_max_cut_circuit(max_cut_graph_edges,\n",
    "                                               n_nodes,\n",
    "                                               [a_s, b_s, c_s],\n",
    "                                               [d_s, e_s, f_s])\n",
    "    \n",
    "    # get hamiltonian\n",
    "    ham = qaoa_graph_to_cost_hamiltonian(max_cut_graph_edges, 1.0)\n",
    "    \n",
    "    # prepare meturement circuit\n",
    "    all_measurement_circuit = []\n",
    "\n",
    "    for qps, cof in ham._dict.items():\n",
    "        measurement_circuit = Circuit()\n",
    "        measured_qbs = []\n",
    "        for qb, p in qps.map.items():\n",
    "            if p == Pauli.I:\n",
    "                continue\n",
    "            measured_qbs.append(qb)\n",
    "            measurement_circuit.add_qubit(qb)\n",
    "            if p == Pauli.X:\n",
    "                measurement_circuit.H(qb)\n",
    "            elif p == Pauli.Y:\n",
    "                measurement_circuit.Rx(0.5, qb)\n",
    "        bits = []\n",
    "        for b_idx, qb in enumerate(measured_qbs):\n",
    "            unit = Bit(b_idx)\n",
    "            bits.append(unit)\n",
    "            measurement_circuit.add_bit(unit, False)\n",
    "            measurement_circuit.Measure(qb, unit)\n",
    "\n",
    "        c = my_prep_curcuit.copy()\n",
    "        c.append(measurement_circuit)\n",
    "        all_measurement_circuit.append([c, (qps, bits)])\n",
    "        \n",
    "    # compile circuit for backend\n",
    "    for c in all_measurement_circuit:\n",
    "        compiler_pass(c[0])\n",
    "    \n",
    "    return all_measurement_circuit"
   ]
  },
  {
   "cell_type": "code",
   "execution_count": null,
   "id": "4260a232",
   "metadata": {
    "slideshow": {
     "slide_type": "slide"
    }
   },
   "outputs": [],
   "source": [
    "def qaoa_sym_instance(backend: Backend,\n",
    "                      all_measurement_circuit: List[Tuple[Circuit, Tuple[Any, int]]],\n",
    "                      guess_mixer_angles: np.array,\n",
    "                      guess_cost_angles: np.array,\n",
    "                      shots: int = 5000) -> float:\n",
    "\n",
    "    assert len(guess_mixer_angles) == len(guess_cost_angles)\n",
    "    assert len(guess_mixer_angles) == 3\n",
    "    \n",
    "    ham = qaoa_graph_to_cost_hamiltonian(max_cut_graph_edges, 1.0)\n",
    "    \n",
    "    all_measurement_circuit_subs = []\n",
    "                                                    \n",
    "    for ci in all_measurement_circuit:\n",
    "        circ = ci[0].copy()\n",
    "        circ.symbol_substitution({a_s : guess_mixer_angles[0],\n",
    "                                  b_s : guess_mixer_angles[1],\n",
    "                                  c_s : guess_mixer_angles[2],\n",
    "                                  d_s : guess_cost_angles[0],\n",
    "                                  e_s : guess_cost_angles[1],\n",
    "                                  f_s : guess_cost_angles[2]})\n",
    "        all_measurement_circuit_subs.append((circ, ci[1]))\n",
    "\n",
    "    handles = backend.process_circuits([c[0] for c in all_measurement_circuit_subs], shots)\n",
    "    \n",
    "    # get expectations\n",
    "    results = backend.get_results(handles)\n",
    "\n",
    "    organised_results = {}\n",
    "\n",
    "    for r, c in zip(results, all_measurement_circuit_subs):\n",
    "        bits=c[1][1]\n",
    "        counts = r.get_counts(cbits=bits)\n",
    "        expectations = expectation_from_counts(counts)\n",
    "        organised_results[c[1][0]] = expectations\n",
    "    \n",
    "    # calculate expectation of hamiltonian observable\n",
    "    estimated_energy = 0\n",
    "    for qps, coef in ham._dict.items():\n",
    "        expect = organised_results[qps]\n",
    "        estimate = expect * coef\n",
    "        estimated_energy += estimate    \n",
    "        \n",
    "    return estimated_energy"
   ]
  },
  {
   "cell_type": "code",
   "execution_count": null,
   "id": "915bb1f2",
   "metadata": {
    "slideshow": {
     "slide_type": "slide"
    }
   },
   "outputs": [],
   "source": [
    "def qaoa_sym_optimise_energy(backend: Backend,\n",
    "                             compiler_pass: Callable[[Circuit], bool],\n",
    "                             shots: int = 5000,\n",
    "                             iterations: int = 100) -> Tuple[List[float], List[float]]:\n",
    "    # find the parameters for the highest energy\n",
    "    highest_energy = 0\n",
    "    n = 3\n",
    "\n",
    "    best_guess_mixer_angles = [0 for i in range(n)]\n",
    "    best_guess_cost_angles = [0 for i in range(n)]\n",
    "\n",
    "    # guess some angles (iterations)-times and try if they are better than the best angles found before    \n",
    "    all_measurement_circuit = qaoa_sym_all_measurement_circuit(compiler_pass)    \n",
    "    \n",
    "    for i in range(iterations):\n",
    "        \n",
    "        guess_mixer_angles = np.random.uniform(0, 1, n)\n",
    "        guess_cost_angles = np.random.uniform(0, 1, n)\n",
    "        \n",
    "        qaoa_energy = qaoa_sym_instance(backend,\n",
    "                                        all_measurement_circuit,\n",
    "                                        guess_mixer_angles,\n",
    "                                        guess_cost_angles,\n",
    "                                        shots)\n",
    "        \n",
    "        if(qaoa_energy > highest_energy):\n",
    "            print(\"new highest energy found: \", qaoa_energy)\n",
    "            best_guess_mixer_angles = guess_mixer_angles\n",
    "            best_guess_cost_angles = guess_cost_angles\n",
    "            highest_energy = qaoa_energy\n",
    "            \n",
    "    print(\"highest energy: \", highest_energy)\n",
    "    print(\"best guess mixer angles: \", best_guess_mixer_angles)\n",
    "    print(\"best guess cost angles: \", best_guess_cost_angles)\n",
    "    \n",
    "    return best_guess_mixer_angles, best_guess_cost_angles"
   ]
  },
  {
   "cell_type": "code",
   "execution_count": null,
   "id": "488cce66",
   "metadata": {
    "slideshow": {
     "slide_type": "slide"
    }
   },
   "outputs": [],
   "source": [
    "def qaoa_sym_calculate(backend: Backend,\n",
    "                       compiler_pass: Callable[[Circuit], bool],\n",
    "                       shots: int = 5000,\n",
    "                       iterations: int = 100) -> float:\n",
    "    \n",
    "    best_mixer, best_cost = qaoa_sym_optimise_energy(backend, compiler_pass, shots, iterations)\n",
    "    \n",
    "    # calculate the result of the optimisation:\n",
    "    my_qaoa_circuit = qaoa_max_cut_circuit(max_cut_graph_edges,\n",
    "                                           n_nodes,\n",
    "                                           best_mixer,\n",
    "                                           best_cost)\n",
    "    my_qaoa_circuit.measure_all()\n",
    "    compiler_pass(my_qaoa_circuit)    \n",
    "    handle = backend.process_circuit(my_qaoa_circuit, shots)\n",
    "    result = backend.get_result(handle)\n",
    "    qaoaplot.plotresults(result, expected_results)"
   ]
  },
  {
   "cell_type": "code",
   "execution_count": null,
   "id": "28449ad9",
   "metadata": {
    "slideshow": {
     "slide_type": "slide"
    }
   },
   "outputs": [],
   "source": [
    "backend = IBMQEmulatorBackend('ibmq_guadalupe')\n",
    "comp = sequence_pass.apply\n",
    "qaoa_sym_calculate(backend, comp, shots = 5000, iterations = 100)"
   ]
  },
  {
   "cell_type": "markdown",
   "id": "da1cb588-d33e-46c4-8d3b-99884dc90796",
   "metadata": {},
   "source": [
    "<span style=\"color:red\">**EXERCISE 6**</span>\n",
    "\n",
    "Measure the difference in time taken for compilation for the symbolic and non-symbolic instances."
   ]
  },
  {
   "cell_type": "markdown",
   "id": "a8890a90",
   "metadata": {
    "slideshow": {
     "slide_type": "slide"
    }
   },
   "source": [
    "## The Quantum Approximate Optimisation Algorithm (QAOA) using TKET.\n",
    "\n",
    "### What have we covered?\n",
    "\n",
    "## 1) Circuit Construction \n",
    "Helper methods for generating quantum circuits from Hamiltonians <br>\n",
    "Defining functions for generating circuits to some specification <br>\n",
    "\n",
    "## 2) Circuit Compilation \n",
    "Using Transform and Optimisation Passes to improve Circuit Compilation <br>\n",
    "Changing configuration of passes i.e. NoiseAwarePlacement configuration <br>\n",
    "Combining Passes into a Sequence Pass <br>\n",
    "Symbolic compilation <br>"
   ]
  },
  {
   "cell_type": "code",
   "execution_count": null,
   "id": "15d25c27",
   "metadata": {},
   "outputs": [],
   "source": []
  }
 ],
 "metadata": {
  "celltoolbar": "Slideshow",
  "kernelspec": {
   "display_name": "Python 3 (ipykernel)",
   "language": "python",
   "name": "python3"
  },
  "language_info": {
   "codemirror_mode": {
    "name": "ipython",
    "version": 3
   },
   "file_extension": ".py",
   "mimetype": "text/x-python",
   "name": "python",
   "nbconvert_exporter": "python",
   "pygments_lexer": "ipython3",
   "version": "3.9.4"
  }
 },
 "nbformat": 4,
 "nbformat_minor": 5
}
