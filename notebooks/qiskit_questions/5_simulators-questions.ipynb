{
 "cells": [
  {
   "cell_type": "markdown",
   "metadata": {},
   "source": [
    "---\n",
    "# 5. High-Performance Simulators (7 questions)\n",
    "Reference material:\n",
    "1. [Qiskit Tutorials - High-Performance Simulators](https://qiskit.org/documentation/tutorials/simulators/index.html)\n",
    "1. [Qiskit Documentation - Aer](https://qiskit.org/documentation/apidoc/aer.html)\n",
    "1. [Circuit Sessions - How to simulate a circuit](https://www.youtube.com/watch?v=VvP41TwY34o)\n",
    "\n",
    "Let us again start with some useful imports"
   ]
  },
  {
   "cell_type": "code",
   "execution_count": 1,
   "metadata": {},
   "outputs": [],
   "source": [
    "%matplotlib inline\n",
    "from qiskit import QuantumCircuit, execute, Aer\n",
    "from qiskit.visualization import plot_histogram\n",
    "import qiskit.circuit.library as qulib\n",
    "import qiskit.quantum_info as qi\n",
    "import numpy as np\n",
    "\n",
    "M_simulator = Aer.get_backend('qasm_simulator')\n",
    "S_simulator = Aer.get_backend('statevector_simulator')\n",
    "U_simulator = Aer.get_backend('unitary_simulator')"
   ]
  },
  {
   "cell_type": "markdown",
   "metadata": {},
   "source": [
    "---\n",
    "## Space for trying out answers\n",
    "You can add any new cells in this notebook to try to figure out the answers for the questions below. "
   ]
  },
  {
   "cell_type": "code",
   "execution_count": null,
   "metadata": {},
   "outputs": [],
   "source": [
    "# you can insert new cells like this by clicking the \"+\" button on the menu bar"
   ]
  },
  {
   "cell_type": "code",
   "execution_count": null,
   "metadata": {},
   "outputs": [],
   "source": []
  },
  {
   "cell_type": "code",
   "execution_count": null,
   "metadata": {},
   "outputs": [],
   "source": []
  },
  {
   "cell_type": "code",
   "execution_count": null,
   "metadata": {},
   "outputs": [],
   "source": []
  },
  {
   "cell_type": "code",
   "execution_count": null,
   "metadata": {},
   "outputs": [],
   "source": []
  },
  {
   "cell_type": "markdown",
   "metadata": {},
   "source": [
    "---\n",
    "## Question 5.1\n",
    "\n",
    "**What is the result of this circuit when run on the `StatevectorSimulator`?**\n",
    "\n",
    "<img src=\"..\\questions\\simulators_images\\q2.png\" align=\"left\"/>"
   ]
  },
  {
   "cell_type": "markdown",
   "metadata": {},
   "source": [
    "**1)**  `[0.35355339+0.j, 0.35355339+0.j, 0.35355339+0.j, 0.35355339+0.j,\n",
    " 0.35355339+0.j, 0.35355339+0.j, 0.35355339+0.j, 0.35355339+0.j]`\n",
    "\n",
    "**2)**  `[0.70710678+0.j, 0.70710678+0.j, 0.70710678+0.j, 0.70710678+0.j, \n",
    " 0.70710678+0.j, 0.70710678+0.j, 0.70710678+0.j, 0.70710678+0.j]`\n",
    "\n",
    "**3)**  `[0.+0.70710678j, 0.70710678+0.j, 0.+0.70710678j, 0.70710678+0.j, \n",
    " 0.+0.70710678j, 0.70710678+0.j, 0.+0.70710678j, 0.70710678+0.j]`\n",
    "\n",
    "**4)**  `[0.35355339+0.j, 0.+0.35355339j, 0.35355339+0.j, 0.+0.35355339j, \n",
    " 0.35355339+0.j, 0.+0.35355339j, 0.35355339+0.j, 0.+0.35355339j]`\n",
    "\n",
    "**5)** None of the above"
   ]
  },
  {
   "cell_type": "markdown",
   "metadata": {},
   "source": [
    "---\n",
    "## Question 5.2\n",
    "\n",
    "**You can also use `Statevector` class in the `quantum_info` module to simulate circuits and obtain the state vector.\n",
    "Given the following code, which option produces a different state vector from the rest?**\n",
    "\n",
    "```\n",
    "import qiskit.quantum_info as qi\n",
    "import numpy as np\n",
    "qc = QuantumCircuit(2)\n",
    "qc.h(0)\n",
    "qc.cx(0,1)\n",
    "```\n",
    "\n",
    "**1)** `qi.Statevector.from_instruction(qc)`\n",
    "\n",
    "**2)** `qi.Statevector(np.array([1, 0, 1, 0]) / np.sqrt(2))`\n",
    "\n",
    "**3)** `np.sqrt(0.5) * (qi.Statevector.from_label('00') + qi.Statevector.from_label('11'))`\n",
    "\n",
    "**4)** `qi.Statevector.from_label('00').evolve(qc)`\n",
    "\n",
    "**5)** None of the above\n"
   ]
  },
  {
   "cell_type": "markdown",
   "metadata": {},
   "source": [
    "---\n",
    "## Question 5.3\n",
    "\n",
    "**What is the result of this circuit when run on the `UnitarySimulator?`**\n",
    "\n",
    "<img src=\"..\\questions\\simulators_images\\q3.png\" align=\"left\"/>"
   ]
  },
  {
   "cell_type": "markdown",
   "metadata": {},
   "source": [
    "**1)** ```[[ 0.+0.j  0.+0.j  0.+0.j  1.+0.j]\n",
    "  [ 0.+0.j  0.+0.j -1.+0.j  0.+0.j]\n",
    "  [ 0.+0.j  1.+0.j  0.+0.j  0.+0.j]\n",
    "  [-1.+0.j  0.+0.j  0.+0.j  0.+0.j]]```\n",
    " \n",
    "**2)**  ```[[ 0.+0.j  1.+0.j  0.+0.j  0.+0.j]\n",
    "  [ 0.+0.j  0.+0.j -1.+0.j  0.+0.j]\n",
    "  [ 0.+0.j  0.+0.j  0.+0.j  1.+0.j]\n",
    "  [-1.+0.j  0.+0.j  0.+0.j  0.+0.j]]```\n",
    " \n",
    "**3)**  ```[[ 0.+0.j  0.+0.j -1.+0.j  0.+0.j]\n",
    "  [ 0.+0.j  1.+0.j  0.+0.j  0.+0.j]\n",
    "  [ 0.+0.j  0.+0.j  0.+0.j  1.+0.j]\n",
    "  [-1.+0.j  0.+0.j  0.+0.j  0.+0.j]]```\n",
    " \n",
    "**4)**  ```[[ 0.+0.j  0.+0.j -1.+0.j  0.+0.j]\n",
    "  [ 0.+0.j  1.+0.j  0.+0.j  0.+0.j]\n",
    "  [ 0.+0.j  0.+0.j  0.+0.j  1.+0.j]\n",
    "  [-1.+0.j  0.+0.j  0.+0.j  0.+0.j]]```\n",
    " \n",
    " **5)** None of the above"
   ]
  },
  {
   "cell_type": "markdown",
   "metadata": {},
   "source": [
    "---\n",
    "## Question 5.4\n",
    "\n",
    "**You can also use Operator class in the quantum_info module to simulate circuits and obtain the unitary.\n",
    "Given the following code, which option produces a different unitary from the rest?**\n",
    "\n",
    "```\n",
    "import qiskit.quantum_info as qi\n",
    "qc = QuantumCircuit(2)\n",
    "qc.h(0)\n",
    "qc.cx(0,1)\n",
    "```\n",
    "\n",
    "**1)** `qi.Operator(qc)`\n",
    "\n",
    "**2)** `qi.Operator.from_label('II').compose(HGate(), [0]).compose(CXGate(), [0, 1])`\n",
    "\n",
    "**3)** `qi.Operator.from_label('HI') + qi.Operator.from_label('CX')`\n",
    "\n",
    "**4)** `qi.Operator.from_label('II').compose(qc)`\n",
    "\n",
    "**5)**  None of the above\n"
   ]
  },
  {
   "cell_type": "markdown",
   "metadata": {},
   "source": [
    "---\n",
    "## Question 5.5\n",
    "\n",
    "**Which of the following histograms could be the result of this circuit when run on `QasmSimulator`?**\n",
    "\n",
    "<img src=\"..\\questions\\simulators_images\\q1.png\" align=\"left\"/>"
   ]
  },
  {
   "cell_type": "markdown",
   "metadata": {},
   "source": [
    "**1)** <img src=\"..\\questions\\simulators_images\\1_w1.png\"/>\n",
    "\n",
    "**2)** <img src=\"..\\questions\\simulators_images\\1_w2.png\"/>\n",
    "\n",
    "**3)** <img src=\"..\\questions\\simulators_images\\1_w3.png\"/>\n",
    "\n",
    "**4)** <img src=\"..\\questions\\simulators_images\\1_w4.png\"/>\n",
    "\n",
    "**5)** None of the above"
   ]
  },
  {
   "cell_type": "markdown",
   "metadata": {},
   "source": [
    "---\n",
    "## Question 5.6\n",
    "\n",
    "Which of these configuration options could result in the following result object/counts?\n",
    "```\n",
    "qc = QuantumCircuit(2)\n",
    "qc.h([0,1])\n",
    "qc.measure_all()\n",
    "     \n",
    "result = execute(*what goes in here?*).result()\n",
    "memory = result.get_memory(qc)\n",
    "print(memory)\n",
    "   \n",
    "> ['01', '10', '00', '11', '00', '10', '00', '01', '00', '11', '11', '11', '11',' 11',' 11']\n",
    "```\n",
    "\n",
    "**1)** `execute(qc, StatevectorSimulator(), shots=15, memory=True)`\n",
    "\n",
    "**2)** `execute(qc, QasmSimulator(), shots=10, memory=True)`\n",
    "\n",
    "**3)** `execute(qc, QasmSimulator(), shots=15, memory=True)`\n",
    "\n",
    "**4)** `execute(qc, QasmSimulator(), shots=15, memory=False)`\n",
    "\n",
    "**5)** None of the above\n"
   ]
  },
  {
   "cell_type": "markdown",
   "metadata": {},
   "source": [
    "---\n",
    "## Question 5.7\n",
    "\n",
    "Clifford circuits can be efficiently simulated classically in Qiskit using Clifford class in the quantum_info module.\n",
    "Which of the following is not a Clifford gate?\n",
    "**1)** `XGate`\n",
    "\n",
    "**2)** `SdgGate`\n",
    "\n",
    "**3)** `CXGate`\n",
    "\n",
    "**4)** `RZGate`\n",
    "\n",
    "**5)** None of the above\n"
   ]
  }
 ],
 "metadata": {
  "kernelspec": {
   "display_name": "Python 3 (ipykernel)",
   "language": "python",
   "name": "python3"
  },
  "language_info": {
   "codemirror_mode": {
    "name": "ipython",
    "version": 3
   },
   "file_extension": ".py",
   "mimetype": "text/x-python",
   "name": "python",
   "nbconvert_exporter": "python",
   "pygments_lexer": "ipython3",
   "version": "3.9.4"
  }
 },
 "nbformat": 4,
 "nbformat_minor": 4
}
