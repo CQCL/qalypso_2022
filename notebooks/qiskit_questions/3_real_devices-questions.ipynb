{
 "cells": [
  {
   "cell_type": "markdown",
   "metadata": {},
   "source": [
    "---\n",
    "# 3. Running on Real Devices (5 questions)\n",
    "Reference material: \n",
    "1. [Qiskit Documentation - IBM Quantum Provider](https://qiskit.org/documentation/apidoc/ibmq_provider.html)\n",
    "1. [1 Minute Qiskit - How can I retrieve an old job from IBM Quantum?](https://www.youtube.com/watch?v=09-Qsge_qqo&list=PLOFEBzvs-VvpOCmJ9BonUhf7NYB4d1p0e&index=6)\n",
    "1. [Building noise models](https://qiskit.org/documentation/tutorials/simulators/3_building_noise_models.html)\n",
    "1. [Qiskit Documentation - Measurement Mitigation Utils](https://qiskit.org/documentation/apidoc/utils_mitigation.html)\n",
    "1. [Coding with Qiskit - Ep.8 Mitigating Noise on Real Quantum Computers](https://www.youtube.com/watch?v=yuDxHJOKsVA)\n",
    "\n",
    "Let us again start with some useful imports"
   ]
  },
  {
   "cell_type": "code",
   "execution_count": 1,
   "metadata": {},
   "outputs": [
    {
     "ename": "IBMQAccountCredentialsNotFound",
     "evalue": "'No IBM Quantum Experience credentials found.'",
     "output_type": "error",
     "traceback": [
      "\u001b[0;31m---------------------------------------------------------------------------\u001b[0m",
      "\u001b[0;31mIBMQAccountCredentialsNotFound\u001b[0m            Traceback (most recent call last)",
      "\u001b[0;32m/tmp/ipykernel_103/3680132539.py\u001b[0m in \u001b[0;36m<module>\u001b[0;34m\u001b[0m\n\u001b[1;32m      8\u001b[0m \u001b[0;32mfrom\u001b[0m \u001b[0mqiskit\u001b[0m\u001b[0;34m.\u001b[0m\u001b[0mproviders\u001b[0m\u001b[0;34m.\u001b[0m\u001b[0maer\u001b[0m\u001b[0;34m.\u001b[0m\u001b[0mnoise\u001b[0m \u001b[0;32mimport\u001b[0m \u001b[0mNoiseModel\u001b[0m\u001b[0;34m\u001b[0m\u001b[0;34m\u001b[0m\u001b[0m\n\u001b[1;32m      9\u001b[0m \u001b[0;34m\u001b[0m\u001b[0m\n\u001b[0;32m---> 10\u001b[0;31m \u001b[0mprovider\u001b[0m \u001b[0;34m=\u001b[0m \u001b[0mIBMQ\u001b[0m\u001b[0;34m.\u001b[0m\u001b[0mload_account\u001b[0m\u001b[0;34m(\u001b[0m\u001b[0;34m)\u001b[0m\u001b[0;34m\u001b[0m\u001b[0;34m\u001b[0m\u001b[0m\n\u001b[0m",
      "\u001b[0;32m/opt/conda/lib/python3.9/site-packages/qiskit/providers/ibmq/ibmqfactory.py\u001b[0m in \u001b[0;36mload_account\u001b[0;34m(self)\u001b[0m\n\u001b[1;32m    165\u001b[0m \u001b[0;34m\u001b[0m\u001b[0m\n\u001b[1;32m    166\u001b[0m         \u001b[0;32mif\u001b[0m \u001b[0;32mnot\u001b[0m \u001b[0mcredentials_list\u001b[0m\u001b[0;34m:\u001b[0m\u001b[0;34m\u001b[0m\u001b[0;34m\u001b[0m\u001b[0m\n\u001b[0;32m--> 167\u001b[0;31m             raise IBMQAccountCredentialsNotFound(\n\u001b[0m\u001b[1;32m    168\u001b[0m                 'No IBM Quantum Experience credentials found.')\n\u001b[1;32m    169\u001b[0m \u001b[0;34m\u001b[0m\u001b[0m\n",
      "\u001b[0;31mIBMQAccountCredentialsNotFound\u001b[0m: 'No IBM Quantum Experience credentials found.'"
     ]
    }
   ],
   "source": [
    "%matplotlib inline\n",
    "from qiskit import QuantumCircuit, execute, Aer, IBMQ, QuantumRegister\n",
    "from qiskit.tools.monitor import job_monitor\n",
    "from qiskit.providers.ibmq import least_busy\n",
    "from qiskit.visualization import plot_histogram\n",
    "from qiskit.utils.mitigation import complete_meas_cal, CompleteMeasFitter\n",
    "from qiskit.providers.aer import noise\n",
    "from qiskit.providers.aer.noise import NoiseModel\n",
    "\n",
    "provider = IBMQ.load_account()"
   ]
  },
  {
   "cell_type": "markdown",
   "metadata": {},
   "source": [
    "---\n",
    "## Space for trying out answers\n",
    "You can add any new cells in this notebook to try to figure out the answers for the questions below. "
   ]
  },
  {
   "cell_type": "code",
   "execution_count": null,
   "metadata": {},
   "outputs": [],
   "source": [
    "# you can insert new cells like this by clicking the \"+\" button on the menu bar"
   ]
  },
  {
   "cell_type": "code",
   "execution_count": null,
   "metadata": {},
   "outputs": [],
   "source": []
  },
  {
   "cell_type": "code",
   "execution_count": null,
   "metadata": {},
   "outputs": [],
   "source": []
  },
  {
   "cell_type": "code",
   "execution_count": null,
   "metadata": {},
   "outputs": [],
   "source": []
  },
  {
   "cell_type": "code",
   "execution_count": null,
   "metadata": {},
   "outputs": [],
   "source": []
  },
  {
   "cell_type": "markdown",
   "metadata": {},
   "source": [
    "## Question 3.1\n",
    "\n",
    "**How do you find the least busy device to run the following circuit from the previous section?**\n",
    "\n",
    "<img src=\"..\\questions\\advanced_circuits_images\\merged.png\" align=\"left\" width=\"300\"/>"
   ]
  },
  {
   "cell_type": "markdown",
   "metadata": {},
   "source": [
    "**1)** `least_busy(provider.backends())`\n",
    "\n",
    "**2)** `least_busy(provider.backends(filters=lambda x: x.configuration().n_qubits >= 7))`\n",
    "\n",
    "**3)**  `provider.backends(filters=lambda x: x.configuration().n_qubits >= 7\n",
    "  and not x.configuration().simulator\n",
    "  and x.status().operational==True)`\n",
    "\n",
    "**4)** Both 1 & 3 are correct\n",
    "\n",
    "**5)** None of the above"
   ]
  },
  {
   "cell_type": "markdown",
   "metadata": {},
   "source": [
    "---\n",
    "## Question 3.2\n",
    "\n",
    "**How do you retrieve the last run job from a backend?**\n",
    "\n",
    "**1)** `backend.jobs()[0]`\n",
    "\n",
    "**2)** `backend.jobs()[-1]`\n",
    "\n",
    "**3)** `backend.retrieve_job()[0]`\n",
    "\n",
    "**4)** `backend.retrieve_job()[-1]`\n",
    "\n",
    "**5)** None of the above\n"
   ]
  },
  {
   "cell_type": "markdown",
   "metadata": {},
   "source": [
    "---\n",
    "## Question 3.3\n",
    "\n",
    "**The image below shows the calibration matrix for two qubits. What kind of noise caused this?**\n",
    "\n",
    "**Remember that a short decay time means more of the noise can be expected to have happened.\n",
    "Also note that in Qiskit qubit ordering is `q1q0`, e.g. $|01 \\rangle$ means `q1` is $|0 \\rangle$ and `q0` is $|1 \\rangle$.**\n",
    "\n",
    "<img src=\"..\\questions\\real_devices_images\\calib.png\" align=\"left\" width=\"300\"/>"
   ]
  },
  {
   "cell_type": "markdown",
   "metadata": {},
   "source": [
    "**1)** Qubits in state $| 1 \\rangle $ decays down to $| 0 \\rangle $ before measurement. The decay times for both qubits are equal.\n",
    "\n",
    "**2)** Qubits in state $| 0 \\rangle $ decays down to $| 1 \\rangle $ before measurement. The decay time for `q0` is shorter than that for `q1`.\n",
    "\n",
    "**3)** Qubits in state $| 1 \\rangle $ decays down to $| 0 \\rangle $ before measurement. The decay time for `q0` is longer than that for `q1`.\n",
    "\n",
    "**4)** Qubits in state $| 0 \\rangle $ decays down to $| 1 \\rangle $ before measurement. The decay time for `q0` is longer than that for `q1`.\n",
    "\n",
    "**5)** Qubits in state $| 1 \\rangle $ decays down to $| 0 \\rangle $ before measurement. The decay time for `q0` is shorter than that for `q1`."
   ]
  },
  {
   "cell_type": "markdown",
   "metadata": {},
   "source": [
    "---\n",
    "## Question 3.4\n",
    "\n",
    "**The noise that caused the calibration matrix in the previous question depends on an array of $T_1$ times, where the element `T1[j]` is the decay time of the qubit `qr[j]` during measurement. Once this has been defined, the noise is simulated with**\n",
    "\n",
    "```\n",
    "T2 = [1,1] # arbitrarily chosen T2 times\n",
    "time_measure = 10 # arbitrarily chosen measurement time\n",
    "noise_thermal = NoiseModel()\n",
    "for j in range(2):\n",
    "    noise_thermal.add_quantum_error(thermal_relaxation_error(T1[j], T2[j], time_measure) , \"measure\", [j])\n",
    "```\n",
    "\n",
    "**Which $T_1$ times create a calibration matrix closest to the one shown above?**\n",
    "\n",
    "**1)** `[100,30]`\n",
    "\n",
    "**2)** `[50,3]`\n",
    "\n",
    "**3)** `[3,10]`\n",
    "\n",
    "**4)** `[30,100]`\n",
    "\n",
    "**5)** `[1,1000]`"
   ]
  },
  {
   "cell_type": "markdown",
   "metadata": {},
   "source": [
    "---\n",
    "## Question 3.5\n",
    "\n",
    "Consider the following three sets of noisy counts implemented on ``ibm_nairobi`` with the layout ``[0,1,2,3,5]``.\n",
    "\n",
    "**Create a measurement filter in order to get the mitigated data. Given this mitigated data, which of the following histograms most likely resembles the *error-free* counts of the same circuit?**\n",
    "\n",
    "Note, that as there are other types of errors for which we cannot correct with this method, you will not get completely noise-free results, but you should be able to guess the correct results from the trend of the mitigated results."
   ]
  },
  {
   "cell_type": "markdown",
   "metadata": {},
   "source": [
    "### 3.5.1"
   ]
  },
  {
   "cell_type": "code",
   "execution_count": 51,
   "metadata": {},
   "outputs": [],
   "source": [
    "# 3.5.1\n",
    "noisy_counts1 = {'00000': 1837, '00001': 22, '10000': 50, '10001': 3, '10010': 1, '10011': 2, '10101': 3, '10110': 5, '10111': 38, '11000': 25, '11001': 10, '11010': 10, '11011': 83, '11100': 4, '11101': 59, '11110': 81, '11111': 1525, '00010': 39, '00011': 10, '00100': 25, '00101': 3, '00110': 8, '00111': 41, '01000': 32, '01001': 1, '01010': 2, '01011': 6, '01100': 2, '01101': 1, '01110': 1, '01111': 71}"
   ]
  },
  {
   "cell_type": "markdown",
   "metadata": {},
   "source": [
    "a) <img src=\"..\\questions\\real_devices_images\\hist_1a.png\" width=\"500\"/>\n",
    "b) <img src=\"..\\questions\\real_devices_images\\hist_1b.png\" width=\"500\"/> \n",
    "c) <img src=\"..\\questions\\real_devices_images\\hist_1c.png\" width=\"500\"/> \n",
    "d) <img src=\"..\\questions\\real_devices_images\\hist_1d.png\" width=\"500\"/>"
   ]
  },
  {
   "cell_type": "markdown",
   "metadata": {},
   "source": [
    "### 3.5.2"
   ]
  },
  {
   "cell_type": "code",
   "execution_count": 52,
   "metadata": {},
   "outputs": [],
   "source": [
    "# 3.5.2\n",
    "noisy_counts2 = {'00000': 1489, '00001': 22, '10000': 36, '10001': 2, '10010': 1, '10011': 1, '10100': 1, '10101': 2, '10110': 2, '10111': 46, '11000': 22, '11001': 11, '11010': 5, '11011': 98, '11100': 5, '11101': 65, '11110': 81, '11111': 1858, '00010': 30, '00011': 5, '00100': 13, '00101': 2, '00110': 6, '00111': 72, '01000': 19, '01001': 1, '01010': 1, '01011': 8, '01100': 1, '01101': 4, '01110': 6, '01111': 85}"
   ]
  },
  {
   "cell_type": "markdown",
   "metadata": {},
   "source": [
    "a) <img src=\"..\\questions\\real_devices_images\\hist_2a.png\" width=\"500\"/>\n",
    "b) <img src=\"..\\questions\\real_devices_images\\hist_2b.png\" width=\"500\"/> \n",
    "c) <img src=\"..\\questions\\real_devices_images\\hist_2c.png\" width=\"500\"/> \n",
    "d) <img src=\"..\\questions\\real_devices_images\\hist_2d.png\" width=\"500\"/>"
   ]
  },
  {
   "cell_type": "markdown",
   "metadata": {},
   "source": [
    "### 3.5.3"
   ]
  },
  {
   "cell_type": "code",
   "execution_count": 53,
   "metadata": {},
   "outputs": [],
   "source": [
    "# 3.5.3\n",
    "noisy_counts3 = {'00000': 44, '00001': 7, '10000': 51, '10001': 7, '10010': 6, '10011': 41, '10100': 424, '10101': 26, '10110': 27, '10111': 428, '11000': 43, '11001': 8, '11010': 4, '11011': 46, '11100': 386, '11101': 27, '11110': 28, '11111': 392, '00010': 2, '00011': 49, '00100': 452, '00101': 20, '00110': 36, '00111': 447, '01000': 46, '01001': 9, '01010': 6, '01011': 24, '01100': 444, '01101': 18, '01110': 22, '01111': 430}"
   ]
  },
  {
   "cell_type": "markdown",
   "metadata": {},
   "source": [
    "a) <img src=\"..\\questions\\real_devices_images\\hist_3a.png\" width=\"500\"/>\n",
    "b) <img src=\"..\\questions\\real_devices_images\\hist_3b.png\" width=\"500\"/> \n",
    "c) <img src=\"..\\questions\\real_devices_images\\hist_3c.png\" width=\"500\"/> \n",
    "d) <img src=\"..\\questions\\real_devices_images\\hist_3d.png\" width=\"500\"/>"
   ]
  }
 ],
 "metadata": {
  "kernelspec": {
   "display_name": "Python 3 (ipykernel)",
   "language": "python",
   "name": "python3"
  },
  "language_info": {
   "codemirror_mode": {
    "name": "ipython",
    "version": 3
   },
   "file_extension": ".py",
   "mimetype": "text/x-python",
   "name": "python",
   "nbconvert_exporter": "python",
   "pygments_lexer": "ipython3",
   "version": "3.9.4"
  }
 },
 "nbformat": 4,
 "nbformat_minor": 4
}
