{
 "cells": [
  {
   "cell_type": "markdown",
   "metadata": {},
   "source": [
    "---\n",
    "# 2. ADVANCED CIRCUITS (3 questions)\n",
    "Reference material: \n",
    "1. [Qiskit Tutorials - Advanced Circuits](https://qiskit.org/documentation/tutorials/circuits_advanced/index.html)\n",
    "1. [Qiskit Documentation - Terra](https://qiskit.org/documentation/apidoc/terra.html)\n",
    "1. [Circuit Sessions - Qiskit Circuit Library](https://www.youtube.com/watch?v=SsXJgAZ6aIg)\n",
    "1. [Circuit Sessions - Transpiling Quantum Circuits](https://www.youtube.com/watch?v=2T3163VjvWQ)\n",
    "\n",
    "Let us again start with some useful imports"
   ]
  },
  {
   "cell_type": "code",
   "execution_count": 1,
   "metadata": {},
   "outputs": [],
   "source": [
    "%matplotlib inline\n",
    "import numpy as np\n",
    "from qiskit import QuantumCircuit, execute\n",
    "from qiskit.transpiler import CouplingMap, PassManager\n",
    "import qiskit.circuit.library as qulib\n",
    "import qiskit.quantum_info as qi"
   ]
  },
  {
   "cell_type": "markdown",
   "metadata": {},
   "source": [
    "---\n",
    "## Space for trying out answers\n",
    "You can add any new cells in this notebook to try to figure out the answers for the questions below. "
   ]
  },
  {
   "cell_type": "code",
   "execution_count": 2,
   "metadata": {},
   "outputs": [],
   "source": [
    "# you can insert new cells like this by clicking the \"+\" button on the menu bar"
   ]
  },
  {
   "cell_type": "code",
   "execution_count": null,
   "metadata": {},
   "outputs": [],
   "source": []
  },
  {
   "cell_type": "code",
   "execution_count": null,
   "metadata": {},
   "outputs": [],
   "source": []
  },
  {
   "cell_type": "code",
   "execution_count": null,
   "metadata": {},
   "outputs": [],
   "source": []
  },
  {
   "cell_type": "code",
   "execution_count": null,
   "metadata": {},
   "outputs": [],
   "source": []
  },
  {
   "cell_type": "markdown",
   "metadata": {},
   "source": [
    "## Question 2.1\n",
    "\n",
    "**How do you merge the lhs and rhs circuits to form the final circuit?**\n",
    "\n",
    "<div align= \"left\">\n",
    "    <p style=\"float: left;\"><b> lhs:  </b></p> \n",
    "    <p><img src=\"..\\questions\\advanced_circuits_images\\lhs.png\" style=\"float: left;\"/> </p> \n",
    "    <p style=\"float: left;\"><b> rhs:  </b></p> \n",
    "    <p><img src=\"..\\questions\\advanced_circuits_images\\rhs.png\" style=\"float: left;\"/> </p>\n",
    "    <p style=\"float: left;\"><b> final  :</b></p> \n",
    "    <p><img src=\"..\\questions\\advanced_circuits_images\\merged.png\" style=\"float: left;\"/> </p>\n",
    "</div>"
   ]
  },
  {
   "cell_type": "markdown",
   "metadata": {},
   "source": [
    "**1)** `lhs.append(rhs)`\n",
    "\n",
    "**2)** `lhs.combine(rhs)`\n",
    "\n",
    "**3)** `lhs.compose(rhs)`\n",
    "\n",
    "**4)**  `lhs+rhs`\n",
    "\n",
    "**5)**  None of the above"
   ]
  },
  {
   "cell_type": "markdown",
   "metadata": {},
   "source": [
    "---\n",
    "## Question 2.2\n",
    "\n",
    "**What's the depth of `QuantumVolume(num_qubits=5, depth=5)` circuit after decomposition into basis gates `[u3,cx]`?**\n",
    "\n",
    "**1)** 5\n",
    "\n",
    "**2)** 10\n",
    "\n",
    "**3)** 25\n",
    "\n",
    "**4)** 35\n",
    "\n",
    "**5)** None of the above"
   ]
  },
  {
   "cell_type": "markdown",
   "metadata": {},
   "source": [
    "---\n",
    "## Question 2.3\n",
    "\n",
    "**Which one of the following Operators is different from the rest?**\n",
    "\n",
    "**1)** `Operator(Pauli('XZ'))`\n",
    "\n",
    "**2)** `Operator(Pauli('X')).tensor(Operator(Pauli('Z')))`\n",
    "\n",
    "**3)**  `qc = QuantumCircuit(2)\n",
    "  qc.x(0)\n",
    "  qc.z(1)\n",
    "  Operator(qc)`\n",
    "\n",
    "**4)**  `Operator([[0, 0, 1, 0], [0, 0, 0, -1], [1, 0, 0, 0], [0, -1, 0, 0]])`\n",
    "\n",
    "**5)** None of the above"
   ]
  }
 ],
 "metadata": {
  "kernelspec": {
   "display_name": "Python 3 (ipykernel)",
   "language": "python",
   "name": "python3"
  },
  "language_info": {
   "codemirror_mode": {
    "name": "ipython",
    "version": 3
   },
   "file_extension": ".py",
   "mimetype": "text/x-python",
   "name": "python",
   "nbconvert_exporter": "python",
   "pygments_lexer": "ipython3",
   "version": "3.9.4"
  }
 },
 "nbformat": 4,
 "nbformat_minor": 4
}
