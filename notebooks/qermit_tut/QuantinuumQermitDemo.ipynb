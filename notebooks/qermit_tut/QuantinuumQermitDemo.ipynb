{
 "cells": [
  {
   "cell_type": "markdown",
   "id": "f04cd76e",
   "metadata": {
    "slideshow": {
     "slide_type": "subslide"
    }
   },
   "source": [
    "## <font color='darkblue'><center>Qermit is: \n",
    "    * A python package for automatically running error mitigated experiments\n",
    "    * That is open-source\n",
    "    * That supports any pytket backend including common hardware providers\n",
    "    * That makes running error mitigation schemes as easy as running any experiment\n",
    "    * That makes constructing new error mitigation schemes easy\n",
    "    * That provides customisable composition of schemes\n",
    "    "
   ]
  },
  {
   "cell_type": "markdown",
   "id": "78b28d69",
   "metadata": {
    "slideshow": {
     "slide_type": "subslide"
    }
   },
   "source": [
    "<center><img src=\"ZNETaskGraph35.png\" width=380 height=350 />"
   ]
  },
  {
   "cell_type": "code",
   "execution_count": null,
   "id": "9f018ac2",
   "metadata": {
    "slideshow": {
     "slide_type": "skip"
    }
   },
   "outputs": [],
   "source": [
    "from pytket import Circuit\n",
    "from pytket.backends import Backend\n",
    "from pytket.backends.backendresult import BackendResult\n",
    "from pytket.circuit.display import render_circuit_jupyter"
   ]
  },
  {
   "cell_type": "code",
   "execution_count": null,
   "id": "735f3a60-8b58-4d4e-bfe5-f2258adfc375",
   "metadata": {},
   "outputs": [],
   "source": [
    "import warnings\n",
    "warnings.filterwarnings(\"ignore\")"
   ]
  },
  {
   "cell_type": "code",
   "execution_count": null,
   "id": "7c5bc0a9",
   "metadata": {
    "slideshow": {
     "slide_type": "skip"
    }
   },
   "outputs": [],
   "source": [
    "from pytket.extensions.qiskit.backends.config import set_ibmq_config \n",
    "# set the below as appropriate\n",
    "# set_ibmq_config(ibmq_api_token=\"\",\n",
    "#                 hub=\"\", \n",
    "#                 group=\"\", \n",
    "#                 project=\"\")\n",
    "\n"
   ]
  },
  {
   "cell_type": "code",
   "execution_count": null,
   "id": "74362fb6",
   "metadata": {
    "slideshow": {
     "slide_type": "skip"
    }
   },
   "outputs": [],
   "source": [
    "from typing import List, Tuple"
   ]
  },
  {
   "cell_type": "markdown",
   "id": "a6f7d8a3",
   "metadata": {
    "slideshow": {
     "slide_type": "slide"
    }
   },
   "source": [
    "## <font color='darkblue'><center>MitTask\n",
    "    * _method -> \"run this circuit on this backend\"\n",
    "    * _n_in_wires -> 1\n",
    "    * _n_out_wires -> 1\n",
    "    * _label -> \"RunCircuits\"\n",
    "    \n",
    "<center><img src=\"BasicTG.png\" width=200 height=200 />"
   ]
  },
  {
   "cell_type": "code",
   "execution_count": null,
   "id": "9f4d115e",
   "metadata": {
    "slideshow": {
     "slide_type": "subslide"
    }
   },
   "outputs": [],
   "source": [
    "from qermit import MitTask, CircuitShots\n",
    "\n",
    "def run_circuit_task_gen(backend: Backend) -> MitTask:\n",
    "    \"\"\"\n",
    "    For each Circuit passed to the task, runs the Circuit through the Backend\n",
    "    and returns a BackendResult containing counts\n",
    "\n",
    "    :param backend: Backend for running Circuits through\n",
    "    :type backend: Backend\n",
    "    \"\"\"\n",
    "\n",
    "    def task(obj, circuits: List[CircuitShots]) -> Tuple[List[BackendResult]]:\n",
    "        c, s = map(list, zip(*circuits))\n",
    "        handles = backend.process_circuits(c, n_shots=s)\n",
    "        results = backend.get_results(handles)\n",
    "        return (results,)\n",
    "\n",
    "    return MitTask(\n",
    "        _label=\"RunCircuits\", _n_in_wires=1, _n_out_wires=1, _method=task\n",
    "    )"
   ]
  },
  {
   "cell_type": "markdown",
   "id": "75935636",
   "metadata": {
    "slideshow": {
     "slide_type": "fragment"
    }
   },
   "source": [
    "<center><img src=\"BasicTG.png\" width=130 height=130 />"
   ]
  },
  {
   "cell_type": "code",
   "execution_count": null,
   "id": "2d9e21b7",
   "metadata": {
    "slideshow": {
     "slide_type": "subslide"
    }
   },
   "outputs": [],
   "source": [
    "c = Circuit(2).CX(0,1).measure_all()\n",
    "render_circuit_jupyter(c)"
   ]
  },
  {
   "cell_type": "code",
   "execution_count": null,
   "id": "61707ccc",
   "metadata": {
    "slideshow": {
     "slide_type": "fragment"
    }
   },
   "outputs": [],
   "source": [
    "from pytket.extensions.qiskit import IBMQEmulatorBackend\n",
    "\n",
    "# make backend object\n",
    "quito_backend = IBMQEmulatorBackend('ibmq_quito')\n",
    "# make MitTask object\n",
    "quito_run_circuit_task = run_circuit_task_gen(quito_backend)\n",
    "\n",
    "# run circuits through MitTask object\n",
    "circuits_wire = [CircuitShots(c, 20)]\n",
    "results = quito_run_circuit_task((circuits_wire,))\n",
    "print(results[0][0].get_counts())"
   ]
  },
  {
   "cell_type": "markdown",
   "id": "cbff230b",
   "metadata": {
    "slideshow": {
     "slide_type": "subslide"
    }
   },
   "source": [
    "## <font color='navy'><center>TaskGraph\n",
    "    * _task_graph -> networkx MultiDiGraph representing dependencies between MitTask\n",
    "    * run -> topological sort on _task_graph nodes, run MitTask callable in order, \n",
    "    add data to graph edges\n",
    "    * append -> Insert MitTask vertex to back of _task_graph\n",
    "    * prepend -> Insert MitTask vertex to front of _task_graph"
   ]
  },
  {
   "cell_type": "code",
   "execution_count": null,
   "id": "7063f4b4",
   "metadata": {
    "slideshow": {
     "slide_type": "subslide"
    }
   },
   "outputs": [],
   "source": [
    "from qermit import TaskGraph\n",
    "\n",
    "tg = TaskGraph()\n",
    "tg.get_task_graph()"
   ]
  },
  {
   "cell_type": "code",
   "execution_count": null,
   "id": "c1aaf24f",
   "metadata": {
    "slideshow": {
     "slide_type": "fragment"
    }
   },
   "outputs": [],
   "source": [
    "tg.append(quito_run_circuit_task)"
   ]
  },
  {
   "cell_type": "markdown",
   "id": "056562f7",
   "metadata": {
    "slideshow": {
     "slide_type": "fragment"
    }
   },
   "source": [
    "<center><img src=\"BasicTG.png\" width=100 height=100 />"
   ]
  },
  {
   "cell_type": "code",
   "execution_count": null,
   "id": "aea2b6c4",
   "metadata": {
    "slideshow": {
     "slide_type": "fragment"
    }
   },
   "outputs": [],
   "source": [
    "circuits_wire = [CircuitShots(c, 20)]\n",
    "results = tg.run((circuits_wire,))\n",
    "print(results[0][0].get_counts())"
   ]
  },
  {
   "cell_type": "markdown",
   "id": "e02d1cf4",
   "metadata": {
    "slideshow": {
     "slide_type": "slide"
    }
   },
   "source": [
    "## <font color='navy'><center>MitRes\n",
    "    * run -> Converts List[CircuitShots] to List[BackendResult]\n",
    "    * append -> Checks that MitTask passed to append receives and \n",
    "    returns List[BackendResult]\n",
    "    * prepend -> Checks that MitTask passed to prepend receives and \n",
    "    returns List[CircuitShots]"
   ]
  },
  {
   "cell_type": "code",
   "execution_count": null,
   "id": "d50ffc68",
   "metadata": {
    "slideshow": {
     "slide_type": "subslide"
    }
   },
   "outputs": [],
   "source": [
    "from qermit import MitRes\n",
    "mitres = MitRes(quito_backend)\n",
    "mitres.get_task_graph()"
   ]
  },
  {
   "cell_type": "code",
   "execution_count": null,
   "id": "1871855d",
   "metadata": {},
   "outputs": [],
   "source": [
    "def compile_circuit_task_gen(backend: Backend) -> MitTask:\n",
    "    \"\"\"\n",
    "    For each Circuit passed to the task, compiles the Circuit for the Backend.\n",
    "    \n",
    "    :param backend: Backend for running Circuits through\n",
    "    :type backend: Backend\n",
    "    \"\"\"\n",
    "    def task(obj, circuits: List[CircuitShots]) -> Tuple[List[CircuitShots]]:\n",
    "        return ([(backend.get_compiled_circuit(cs.Circuit), cs.Shots) for cs in circuits],)\n",
    "\n",
    "    return MitTask(\n",
    "        _label=\"CompileCircuits\", _n_in_wires=1, _n_out_wires=1, _method=task\n",
    "    )"
   ]
  },
  {
   "cell_type": "code",
   "execution_count": null,
   "id": "063a8c3d",
   "metadata": {
    "slideshow": {
     "slide_type": "subslide"
    }
   },
   "outputs": [],
   "source": [
    "mitres.prepend(compile_circuit_task_gen(quito_backend))\n",
    "mitres.get_task_graph()"
   ]
  },
  {
   "cell_type": "code",
   "execution_count": null,
   "id": "4259cd53",
   "metadata": {
    "slideshow": {
     "slide_type": "subslide"
    }
   },
   "outputs": [],
   "source": [
    "c = Circuit(2).H(0).CX(0,1).measure_all()\n",
    "render_circuit_jupyter(c)"
   ]
  },
  {
   "cell_type": "code",
   "execution_count": null,
   "id": "96820d43",
   "metadata": {
    "slideshow": {
     "slide_type": "fragment"
    }
   },
   "outputs": [],
   "source": [
    "circuits_wire = [CircuitShots(c, 2000)]\n",
    "results = mitres.run(circuits_wire)\n",
    "print(results[0].get_counts())"
   ]
  },
  {
   "cell_type": "markdown",
   "id": "6da25e85-3272-416e-97a4-9f7424399f5c",
   "metadata": {},
   "source": [
    "<span style=\"color:red\">**EXERCISE 1**</span>\n",
    "\n",
    "Write your own MitTask generator function that allows the [compiler pass](https://github.com/CQCL/pytket/blob/main/examples/compilation_example.ipynb) to be one of the inputs. "
   ]
  },
  {
   "cell_type": "code",
   "execution_count": null,
   "id": "9da88df4",
   "metadata": {
    "slideshow": {
     "slide_type": "subslide"
    }
   },
   "outputs": [],
   "source": [
    "from qermit.frame_randomisation import gen_Frame_Randomisation_MitRes\n",
    "\n",
    "fr_mitres = gen_Frame_Randomisation_MitRes(quito_backend, samples = 40)"
   ]
  },
  {
   "cell_type": "markdown",
   "id": "36d5b87c",
   "metadata": {
    "slideshow": {
     "slide_type": "fragment"
    }
   },
   "source": [
    "<center><img src=\"FrameRandomisationMitRes.png\" width=250 height=250 />\n"
   ]
  },
  {
   "cell_type": "code",
   "execution_count": null,
   "id": "ee47705a",
   "metadata": {
    "slideshow": {
     "slide_type": "subslide"
    }
   },
   "outputs": [],
   "source": [
    "circuits_wire = [CircuitShots(c, 2000)]\n",
    "results = fr_mitres.run(circuits_wire)\n",
    "print(results[0].get_counts())"
   ]
  },
  {
   "cell_type": "markdown",
   "id": "658e35dd-5560-482b-9580-81c440f72ef0",
   "metadata": {},
   "source": [
    "<span style=\"color:red\">**EXERCISE 2**</span>\n",
    "\n",
    "How does the number of `samples` affect the results and the runtime?"
   ]
  },
  {
   "cell_type": "code",
   "execution_count": null,
   "id": "49577088",
   "metadata": {
    "slideshow": {
     "slide_type": "skip"
    }
   },
   "outputs": [],
   "source": [
    "from qermit.spam import gen_FullyCorrelated_SPAM_MitRes\n",
    "\n",
    "correlations = [quito_backend.backend_info.architecture.nodes]\n",
    "spam_mitres = gen_FullyCorrelated_SPAM_MitRes(quito_backend, \n",
    "                                              calibration_shots=2000, \n",
    "                                              correlations=correlations)\n",
    "results = spam_mitres.run(circuits_wire)\n",
    "print(results[0].get_counts())"
   ]
  },
  {
   "cell_type": "markdown",
   "id": "2ba0fc10",
   "metadata": {
    "slideshow": {
     "slide_type": "skip"
    }
   },
   "source": [
    "<center><img src=\"SPAMMitres.png\" width=250 height=250 />"
   ]
  },
  {
   "cell_type": "markdown",
   "id": "5ecdbce3-fcca-443e-baac-4c8ae569e871",
   "metadata": {},
   "source": [
    "<span style=\"color:red\">**EXERCISE 3**</span>\n",
    "\n",
    "Try using [uncorrelated SPAM](https://cqcl.github.io/Qermit/spam.html#qermit.spam.spam_mitres.gen_UnCorrelated_SPAM_MitRes) instead, how do the results change?"
   ]
  },
  {
   "cell_type": "markdown",
   "id": "2127d7fb",
   "metadata": {
    "slideshow": {
     "slide_type": "slide"
    }
   },
   "source": [
    "## <font color='navy'><center>MitEx\n",
    "    * run -> Converts List[ObservableExperiment] to List[QubitPauliOperator]\n",
    "    * append -> Checks that MitTask passed to append receives and \n",
    "    returns List[QubitPauliOperator]\n",
    "    * prepend -> Checks that MitTask passed to prepend receives and \n",
    "    returns List[ObservableExperiment]"
   ]
  },
  {
   "cell_type": "code",
   "execution_count": null,
   "id": "8d09d9c1",
   "metadata": {
    "slideshow": {
     "slide_type": "subslide"
    }
   },
   "outputs": [],
   "source": [
    "from qermit import MitEx\n",
    "\n",
    "mitex = MitEx(quito_backend)"
   ]
  },
  {
   "cell_type": "markdown",
   "id": "f614fbea",
   "metadata": {
    "slideshow": {
     "slide_type": "fragment"
    }
   },
   "source": [
    "<center><img src=\"Mitex.png\" width=300 height=300 />\n"
   ]
  },
  {
   "cell_type": "code",
   "execution_count": null,
   "id": "00f6b23a",
   "metadata": {
    "slideshow": {
     "slide_type": "subslide"
    }
   },
   "outputs": [],
   "source": [
    "from pytket.circuit import Qubit, PauliExpBox\n",
    "from pytket.passes import DecomposeBoxes\n",
    "from pytket.pauli import QubitPauliString, Pauli\n",
    "from pytket.utils import QubitPauliOperator\n",
    "from qermit import ObservableTracker, AnsatzCircuit, SymbolsDict, ObservableExperiment\n",
    "\n",
    "peb_xyz = PauliExpBox([Pauli.X, Pauli.Y, Pauli.Z], 0.25)\n",
    "\n",
    "c = Circuit(3)\n",
    "c.add_pauliexpbox(peb_xyz, [Qubit(0), Qubit(1), Qubit(2)]).Rz(0.2, 0).Rz(0.3, 1).Rz(0.4, 2)\n",
    "DecomposeBoxes().apply(c)\n",
    "\n",
    "render_circuit_jupyter(c)"
   ]
  },
  {
   "cell_type": "code",
   "execution_count": null,
   "id": "ed7ab430",
   "metadata": {
    "slideshow": {
     "slide_type": "fragment"
    }
   },
   "outputs": [],
   "source": [
    "qubit_pauli_string = QubitPauliString([Qubit(0), Qubit(1), Qubit(2)], [Pauli.Z, Pauli.Z, Pauli.Z])\n",
    "ansatz_circuit = AnsatzCircuit(c, 10000, SymbolsDict())\n",
    "\n",
    "experiment = [ObservableExperiment(ansatz_circuit, ObservableTracker(QubitPauliOperator({qubit_pauli_string: 1.0})))]"
   ]
  },
  {
   "cell_type": "code",
   "execution_count": null,
   "id": "82d9399b",
   "metadata": {
    "slideshow": {
     "slide_type": "fragment"
    }
   },
   "outputs": [],
   "source": [
    "results = mitex.run(experiment)\n",
    "print(results[0])"
   ]
  },
  {
   "cell_type": "code",
   "execution_count": null,
   "id": "b25fa063",
   "metadata": {
    "slideshow": {
     "slide_type": "subslide"
    }
   },
   "outputs": [],
   "source": [
    "from qermit.zero_noise_extrapolation import gen_ZNE_MitEx\n",
    "\n",
    "zne_mitex = gen_ZNE_MitEx(quito_backend, [3,5], show_fit = True)"
   ]
  },
  {
   "cell_type": "markdown",
   "id": "94177b61",
   "metadata": {
    "slideshow": {
     "slide_type": "fragment"
    }
   },
   "source": [
    "<center><img src=\"ZNETaskGraph35.png\" width=300 height=300 />"
   ]
  },
  {
   "cell_type": "code",
   "execution_count": null,
   "id": "fcf23ee7",
   "metadata": {
    "slideshow": {
     "slide_type": "subslide"
    }
   },
   "outputs": [],
   "source": [
    "results = zne_mitex.run(experiment)\n",
    "print(results[0])"
   ]
  },
  {
   "cell_type": "markdown",
   "id": "f91d99ab-801c-49ec-86c8-5beaa3e323f7",
   "metadata": {},
   "source": [
    "<span style=\"color:red\">**EXERCISE 4**</span>\n",
    "\n",
    "Try extending the fold to 7. What is the best tradeoff between number of points and prediction?"
   ]
  },
  {
   "cell_type": "markdown",
   "id": "6c57ce85",
   "metadata": {
    "slideshow": {
     "slide_type": "slide"
    }
   },
   "source": [
    "## <font color='navy'><center>Combining Schemes\n",
    "    * TaskGraphs for running error mitigation schemes are constructed on call\n",
    "    * Each construction builds around a MitRes or MitEx object\n",
    "    * Via optional arguments, a custom MitRes or MitEx object can be passed to \n",
    "    the generator to construct a TaskGraph around\n",
    "    * MitRes schemes can be built around MitRes objects, MitEx schemes can be \n",
    "    built around MitRes or MitEx objects"
   ]
  },
  {
   "cell_type": "code",
   "execution_count": null,
   "id": "1cbdbbbe",
   "metadata": {
    "slideshow": {
     "slide_type": "subslide"
    }
   },
   "outputs": [],
   "source": [
    "spam_fr_mitres = gen_FullyCorrelated_SPAM_MitRes(quito_backend, \n",
    "                                              calibration_shots=2000, \n",
    "                                              correlations=correlations,\n",
    "                                              correction_mitres=fr_mitres)\n",
    "results = spam_fr_mitres.run(circuits_wire)\n",
    "print(results[0].get_counts())"
   ]
  },
  {
   "cell_type": "markdown",
   "id": "a5cb9611",
   "metadata": {
    "slideshow": {
     "slide_type": "fragment"
    }
   },
   "source": [
    "<center><img src=\"SPAMFRMitres.png\" width=265 height=220 />"
   ]
  },
  {
   "cell_type": "code",
   "execution_count": null,
   "id": "3a3ffe9d",
   "metadata": {
    "slideshow": {
     "slide_type": "subslide"
    }
   },
   "outputs": [],
   "source": [
    "spam_fr_mitex = MitEx(quito_backend, mitres=spam_fr_mitres)\n",
    "results = spam_fr_mitex.run(experiment)\n",
    "print(results[0])"
   ]
  },
  {
   "cell_type": "markdown",
   "id": "7f8519d5",
   "metadata": {
    "slideshow": {
     "slide_type": "fragment"
    }
   },
   "source": [
    "<center><img src=\"SPAMFRMitex.png\" width=300 height=300 />"
   ]
  },
  {
   "cell_type": "code",
   "execution_count": null,
   "id": "119dde69",
   "metadata": {
    "slideshow": {
     "slide_type": "subslide"
    }
   },
   "outputs": [],
   "source": [
    "zne_spam_fr_mitex = gen_ZNE_MitEx(quito_backend, \n",
    "                                  [3,5], \n",
    "                                  experiment_mitex=spam_fr_mitex,\n",
    "                                  show_fit=True)\n",
    "results = zne_spam_fr_mitex.run(experiment)\n",
    "print(results[0])"
   ]
  },
  {
   "cell_type": "markdown",
   "id": "5dd2d271-8e1d-4689-b7d0-abe283d6706e",
   "metadata": {},
   "source": [
    "<span style=\"color:red\">**EXERCISE 5**</span>\n",
    "\n",
    "Can we change the ordering of the mitigation methods applied? What are the different costs/benefits of these alternative orderings?"
   ]
  },
  {
   "cell_type": "markdown",
   "id": "4f0f0cb8",
   "metadata": {
    "slideshow": {
     "slide_type": "fragment"
    }
   },
   "source": [
    "## <font color='navy'><center>Comparison for ibmq_quito noise model\n",
    "    * Actual value -> 1.0\n",
    "    * MitEx -> 0.867\n",
    "    * MitEx with frame randomisation and SPAM -> 0.951\n",
    "    * MitEx with frame randomisation, SPAM and ZNE -> 0.998"
   ]
  },
  {
   "cell_type": "markdown",
   "id": "4eba4445",
   "metadata": {
    "slideshow": {
     "slide_type": "fragment"
    }
   },
   "source": [
    "## <font color='navy'><center>Comparison for ibm_perth device\n",
    "    * Actual value -> 1.0\n",
    "    * MitEx -> 0.813\n",
    "    * MitEx with frame randomisation and SPAM -> 0.986\n",
    "    * MitEx with frame randomisation, SPAM and ZNE -> 1.041"
   ]
  },
  {
   "cell_type": "markdown",
   "id": "0e66ab72-5729-429d-8612-86e8f84b715c",
   "metadata": {},
   "source": [
    "<span style=\"color:red\">**EXERCISE 6**</span>\n",
    "\n",
    "Verify these results yourself using the ibm_perth device, by copying and modifying the code above."
   ]
  },
  {
   "cell_type": "markdown",
   "id": "b4a8b005-5fd3-4052-8e30-8b17f6cdec0d",
   "metadata": {},
   "source": [
    "<span style=\"color:red\">**EXERCISE 7**</span>\n",
    "\n",
    "Construct your own Qermit error mitigated experiment for the QAOA algorithm presented in [QAOA_notebook.ipynb](notebooks/QAOA_notebook.ipynb)"
   ]
  },
  {
   "cell_type": "markdown",
   "id": "8ea1655c",
   "metadata": {
    "slideshow": {
     "slide_type": "slide"
    }
   },
   "source": [
    "# <font color='navy'><center>Thanks!</font>\n",
    "    \n",
    "## <center>Volumetric Benchmarking of Error Mitigation with Qermit -> arXiv:2204.09725\n",
    "## <a href=\"qerm.it\"><font color = 'blue'><center>qerm.it</font></a>"
   ]
  }
 ],
 "metadata": {
  "celltoolbar": "Slideshow",
  "kernelspec": {
   "display_name": "Python 3 (ipykernel)",
   "language": "python",
   "name": "python3"
  },
  "language_info": {
   "codemirror_mode": {
    "name": "ipython",
    "version": 3
   },
   "file_extension": ".py",
   "mimetype": "text/x-python",
   "name": "python",
   "nbconvert_exporter": "python",
   "pygments_lexer": "ipython3",
   "version": "3.9.4"
  }
 },
 "nbformat": 4,
 "nbformat_minor": 5
}
